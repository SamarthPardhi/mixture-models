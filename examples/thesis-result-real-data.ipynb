{
 "cells": [
  {
   "cell_type": "code",
   "execution_count": 1,
   "id": "65768c12-676c-4839-b3fc-3e28bd7cdcba",
   "metadata": {},
   "outputs": [],
   "source": [
    "import numpy as np\n",
    "import seaborn as sns\n",
    "import matplotlib.pyplot as plt\n",
    "from scipy.stats import norm\n",
    "from scipy.stats import invgamma\n",
    "import utils\n",
    "import hashlib\n",
    "from sklearn.mixture import GaussianMixture\n",
    "from mixtureModels import DiagGaussianFS\n",
    "from mixtureModels import DiagGaussian\n",
    "from mixtureModels import DiagGaussianCategorical\n",
    "from sklearn.metrics.cluster import adjusted_rand_score\n",
    "import time\n",
    "from sklearn.preprocessing import OneHotEncoder\n",
    "import pandas as pd\n",
    "import multiprocessing\n",
    "from ucimlrepo import fetch_ucirepo \n",
    "import os"
   ]
  },
  {
   "cell_type": "code",
   "execution_count": 2,
   "id": "745aa50e-d27f-4ce6-8d0f-4d09c592289e",
   "metadata": {},
   "outputs": [],
   "source": [
    "seed = 3489\n",
    "# seed = np.rendom.randint(1, 2**16 - 1)\n",
    "np.random.seed(seed)"
   ]
  },
  {
   "cell_type": "markdown",
   "id": "3cbf5c08-c582-42a7-af6a-6d0f2a02c375",
   "metadata": {
    "jp-MarkdownHeadingCollapsed": true
   },
   "source": [
    "## Cell motif human [Gaurik] data"
   ]
  },
  {
   "cell_type": "code",
   "execution_count": 4,
   "id": "07ab27aa-2e20-4cad-83be-283377f594a0",
   "metadata": {},
   "outputs": [],
   "source": [
    "data_dir = \"dataGaurik\"\n",
    "filename = \"cell_motif_r_n_human\"\n",
    "\n",
    "X = utils.extractData(f\"{data_dir}/{filename}.csv\", \"data\")\n",
    "z_true = utils.extractData(f\"{data_dir}/{filename}.labels\", \"labels\")\n",
    "K = len(set(z_true))"
   ]
  },
  {
   "cell_type": "markdown",
   "id": "a19d6b54-f4cb-4c4a-8241-c361584abb89",
   "metadata": {},
   "source": [
    "#### Run Models"
   ]
  },
  {
   "cell_type": "code",
   "execution_count": null,
   "id": "89c8048d-0e87-4de5-ae4d-b1f0816ae508",
   "metadata": {},
   "outputs": [],
   "source": [
    "start_time = time.process_time()\n",
    "training_runs_EM = 2\n",
    "\n",
    "EM_gmm = GaussianMixture(n_components=K, n_init=training_runs_EM, covariance_type=\"diag\")\n",
    "EM_gmm.fit(X)\n",
    "\n",
    "print(f\"BIC: {EM_gmm.bic(X)}\\nK: {K}\")\n",
    "z_pred_EM = EM_gmm.predict(X)\n",
    "utils.saveData(f\"out{data_dir}/{filename}.pred.em.labels\", z_pred_EM, \"labels\")\n",
    "utils.saveData(f\"out{data_dir}/{filename}.pred.em.time\", time.process_time() - start_time, \"single\")\n"
   ]
  },
  {
   "cell_type": "code",
   "execution_count": 5,
   "id": "eaef3bba-82f8-4c1c-b846-beca1b7d4a36",
   "metadata": {},
   "outputs": [
    {
     "name": "stdout",
     "output_type": "stream",
     "text": [
      "29/30               \n",
      "Run: 1, K:6, BIC: 53517060.17186609, logmax post: -26747357.68254354, max_post_iter: 23\n",
      "\n",
      "Run:  2\n",
      "29/30               \n",
      "Run: 2, K:6, BIC: 53517047.2751954, logmax post: -26747351.234208193, max_post_iter: 17\n"
     ]
    },
    {
     "data": {
      "text/plain": [
       "'outdataGaurik/cell_motif_r_n_human.pred.bayes.time'"
      ]
     },
     "execution_count": 5,
     "metadata": {},
     "output_type": "execute_result"
    }
   ],
   "source": [
    "start_time = time.process_time()\n",
    "est = DiagGaussian(alpha = 1.0, m_0_partial = 0, k_0 = 0.03, v_0_partial = 3, S_0_partial = 0.3, K_initial = K, iterations=30, runs = 2)\n",
    "est.sample(X)\n",
    "\n",
    "bayes_pred = est.assignments()\n",
    "utils.saveData(f\"out{data_dir}/{filename}.pred.bayes.labels\", bayes_pred, \"labels\")\n",
    "utils.saveData(f\"out{data_dir}/{filename}.pred.bayes.time\", time.process_time() - start_time, \"single\")"
   ]
  },
  {
   "cell_type": "code",
   "execution_count": 4,
   "id": "f78a68d5-4634-4e54-b705-762186ba5426",
   "metadata": {},
   "outputs": [
    {
     "name": "stdout",
     "output_type": "stream",
     "text": [
      "\n",
      "Run:  1\n",
      "9/10               \n",
      "Run: 1, K:6, BIC: 51393784.20071914, logmax post: -25696709.10035957, max_post_iter: 2\n",
      "Final features:\n",
      "[[0 0 0 ... 0 0 0]\n",
      " [0 0 0 ... 0 0 0]\n",
      " [0 0 0 ... 0 0 0]\n",
      " [0 0 0 ... 0 0 0]\n",
      " [0 0 0 ... 0 0 0]\n",
      " [1 1 1 ... 1 1 1]]\n",
      "\n",
      "Run:  2\n",
      "9/10               \n",
      "Run: 2, K:6, BIC: 51456816.867024235, logmax post: -25728225.433512118, max_post_iter: 2\n",
      "Final features:\n",
      "[[0 0 0 ... 0 0 0]\n",
      " [0 0 0 ... 0 0 0]\n",
      " [0 0 0 ... 0 0 0]\n",
      " [0 0 0 ... 0 0 0]\n",
      " [0 0 0 ... 0 0 0]\n",
      " [1 1 1 ... 1 1 1]]\n"
     ]
    },
    {
     "data": {
      "text/plain": [
       "'outdataGaurik/cell_motif_r_n_human.pred.bayes.fs.time'"
      ]
     },
     "execution_count": 4,
     "metadata": {},
     "output_type": "execute_result"
    }
   ],
   "source": [
    "start_time = time.process_time()\n",
    "est = DiagGaussianFS(alpha = 1.0, m_0_partial = 0, k_0 = 0.03, v_0_partial = 3, S_0_partial = 0.3, K_initial = K, iterations=10, runs = 2, FS=True)\n",
    "est.sample(X)\n",
    "\n",
    "bayes_pred_fs = est.assignments()\n",
    "utils.saveData(f\"out{data_dir}/{filename}.pred.bayes.fs.labels\", bayes_pred_fs, \"labels\")\n",
    "utils.saveData(f\"out{data_dir}/{filename}.pred.bayes.fs.time\", time.process_time() - start_time, \"single\")"
   ]
  },
  {
   "cell_type": "markdown",
   "id": "184ed2c9-a54c-4433-b679-f945b5b4ae97",
   "metadata": {},
   "source": [
    "#### Evaluate the performance"
   ]
  },
  {
   "cell_type": "code",
   "execution_count": 5,
   "id": "32b4350e-6609-4d8b-8b14-7033619ec1cc",
   "metadata": {},
   "outputs": [],
   "source": [
    "EM_labels = utils.extractData(f\"out{data_dir}/{filename}.pred.em.labels\", \"labels\")\n",
    "bayes_labels = utils.extractData(f\"out{data_dir}/{filename}.pred.bayes.labels\", \"labels\")\n",
    "bayes_fs_labels = utils.extractData(f\"out{data_dir}/{filename}.pred.bayes.fs.labels\", \"labels\")\n",
    "\n",
    "EM_ari = round(adjusted_rand_score(z_true, EM_labels), 3)\n",
    "bayes_ari = round(adjusted_rand_score(z_true, bayes_labels), 3)\n",
    "bayes_fs_ari = round(adjusted_rand_score(z_true, bayes_fs_labels), 3)\n",
    "\n",
    "EM_time = round(float(utils.extractData(f\"out{data_dir}/{filename}.pred.em.time\", \"single\")), 3)\n",
    "bayes_time = round(float(utils.extractData(f\"out{data_dir}/{filename}.pred.bayes.time\", \"single\")), 3)\n",
    "bayes_fs_time = round(float(utils.extractData(f\"out{data_dir}/{filename}.pred.bayes.fs.time\", \"single\")), 3)"
   ]
  },
  {
   "cell_type": "code",
   "execution_count": 6,
   "id": "770ca864-160a-45af-99ff-e602f4da290f",
   "metadata": {},
   "outputs": [
    {
     "name": "stdout",
     "output_type": "stream",
     "text": [
      "0.16 0.194 0.19\n",
      "674.929 678.136 12065.212\n"
     ]
    }
   ],
   "source": [
    "print(EM_ari, bayes_ari, bayes_fs_ari)\n",
    "print(EM_time, bayes_time, bayes_fs_time)"
   ]
  },
  {
   "cell_type": "code",
   "execution_count": null,
   "id": "db3d7dec-dee0-4b91-b9c8-9d0864b1ffd0",
   "metadata": {},
   "outputs": [],
   "source": []
  },
  {
   "cell_type": "markdown",
   "id": "5720db92-a8ae-4caf-bcfa-09da8504fccb",
   "metadata": {},
   "source": [
    "## UCI data"
   ]
  },
  {
   "cell_type": "code",
   "execution_count": 3,
   "id": "b458cb90-5532-409a-88d9-c0052ee8d4e9",
   "metadata": {},
   "outputs": [],
   "source": [
    "uci_data_dir = \"dataUCI\""
   ]
  },
  {
   "cell_type": "markdown",
   "id": "3c7d2b15-2173-4e75-960c-ab2cf19115e7",
   "metadata": {},
   "source": [
    "## Breast Cancer Wisconsin (Diagnostic)\n",
    "\n",
    "https://archive.ics.uci.edu/dataset/17/breast+cancer+wisconsin+diagnostic"
   ]
  },
  {
   "cell_type": "code",
   "execution_count": 34,
   "id": "0b1b80e0-3ac6-4d3a-84a7-1538a3c8aa28",
   "metadata": {},
   "outputs": [
    {
     "data": {
      "text/html": [
       "<div>\n",
       "<style scoped>\n",
       "    .dataframe tbody tr th:only-of-type {\n",
       "        vertical-align: middle;\n",
       "    }\n",
       "\n",
       "    .dataframe tbody tr th {\n",
       "        vertical-align: top;\n",
       "    }\n",
       "\n",
       "    .dataframe thead th {\n",
       "        text-align: right;\n",
       "    }\n",
       "</style>\n",
       "<table border=\"1\" class=\"dataframe\">\n",
       "  <thead>\n",
       "    <tr style=\"text-align: right;\">\n",
       "      <th></th>\n",
       "      <th>name</th>\n",
       "      <th>role</th>\n",
       "      <th>type</th>\n",
       "      <th>demographic</th>\n",
       "      <th>description</th>\n",
       "      <th>units</th>\n",
       "      <th>missing_values</th>\n",
       "    </tr>\n",
       "  </thead>\n",
       "  <tbody>\n",
       "    <tr>\n",
       "      <th>0</th>\n",
       "      <td>ID</td>\n",
       "      <td>ID</td>\n",
       "      <td>Categorical</td>\n",
       "      <td>None</td>\n",
       "      <td>None</td>\n",
       "      <td>None</td>\n",
       "      <td>no</td>\n",
       "    </tr>\n",
       "    <tr>\n",
       "      <th>1</th>\n",
       "      <td>Diagnosis</td>\n",
       "      <td>Target</td>\n",
       "      <td>Categorical</td>\n",
       "      <td>None</td>\n",
       "      <td>None</td>\n",
       "      <td>None</td>\n",
       "      <td>no</td>\n",
       "    </tr>\n",
       "    <tr>\n",
       "      <th>2</th>\n",
       "      <td>radius1</td>\n",
       "      <td>Feature</td>\n",
       "      <td>Continuous</td>\n",
       "      <td>None</td>\n",
       "      <td>None</td>\n",
       "      <td>None</td>\n",
       "      <td>no</td>\n",
       "    </tr>\n",
       "    <tr>\n",
       "      <th>3</th>\n",
       "      <td>texture1</td>\n",
       "      <td>Feature</td>\n",
       "      <td>Continuous</td>\n",
       "      <td>None</td>\n",
       "      <td>None</td>\n",
       "      <td>None</td>\n",
       "      <td>no</td>\n",
       "    </tr>\n",
       "    <tr>\n",
       "      <th>4</th>\n",
       "      <td>perimeter1</td>\n",
       "      <td>Feature</td>\n",
       "      <td>Continuous</td>\n",
       "      <td>None</td>\n",
       "      <td>None</td>\n",
       "      <td>None</td>\n",
       "      <td>no</td>\n",
       "    </tr>\n",
       "    <tr>\n",
       "      <th>5</th>\n",
       "      <td>area1</td>\n",
       "      <td>Feature</td>\n",
       "      <td>Continuous</td>\n",
       "      <td>None</td>\n",
       "      <td>None</td>\n",
       "      <td>None</td>\n",
       "      <td>no</td>\n",
       "    </tr>\n",
       "    <tr>\n",
       "      <th>6</th>\n",
       "      <td>smoothness1</td>\n",
       "      <td>Feature</td>\n",
       "      <td>Continuous</td>\n",
       "      <td>None</td>\n",
       "      <td>None</td>\n",
       "      <td>None</td>\n",
       "      <td>no</td>\n",
       "    </tr>\n",
       "    <tr>\n",
       "      <th>7</th>\n",
       "      <td>compactness1</td>\n",
       "      <td>Feature</td>\n",
       "      <td>Continuous</td>\n",
       "      <td>None</td>\n",
       "      <td>None</td>\n",
       "      <td>None</td>\n",
       "      <td>no</td>\n",
       "    </tr>\n",
       "    <tr>\n",
       "      <th>8</th>\n",
       "      <td>concavity1</td>\n",
       "      <td>Feature</td>\n",
       "      <td>Continuous</td>\n",
       "      <td>None</td>\n",
       "      <td>None</td>\n",
       "      <td>None</td>\n",
       "      <td>no</td>\n",
       "    </tr>\n",
       "    <tr>\n",
       "      <th>9</th>\n",
       "      <td>concave_points1</td>\n",
       "      <td>Feature</td>\n",
       "      <td>Continuous</td>\n",
       "      <td>None</td>\n",
       "      <td>None</td>\n",
       "      <td>None</td>\n",
       "      <td>no</td>\n",
       "    </tr>\n",
       "    <tr>\n",
       "      <th>10</th>\n",
       "      <td>symmetry1</td>\n",
       "      <td>Feature</td>\n",
       "      <td>Continuous</td>\n",
       "      <td>None</td>\n",
       "      <td>None</td>\n",
       "      <td>None</td>\n",
       "      <td>no</td>\n",
       "    </tr>\n",
       "    <tr>\n",
       "      <th>11</th>\n",
       "      <td>fractal_dimension1</td>\n",
       "      <td>Feature</td>\n",
       "      <td>Continuous</td>\n",
       "      <td>None</td>\n",
       "      <td>None</td>\n",
       "      <td>None</td>\n",
       "      <td>no</td>\n",
       "    </tr>\n",
       "    <tr>\n",
       "      <th>12</th>\n",
       "      <td>radius2</td>\n",
       "      <td>Feature</td>\n",
       "      <td>Continuous</td>\n",
       "      <td>None</td>\n",
       "      <td>None</td>\n",
       "      <td>None</td>\n",
       "      <td>no</td>\n",
       "    </tr>\n",
       "    <tr>\n",
       "      <th>13</th>\n",
       "      <td>texture2</td>\n",
       "      <td>Feature</td>\n",
       "      <td>Continuous</td>\n",
       "      <td>None</td>\n",
       "      <td>None</td>\n",
       "      <td>None</td>\n",
       "      <td>no</td>\n",
       "    </tr>\n",
       "    <tr>\n",
       "      <th>14</th>\n",
       "      <td>perimeter2</td>\n",
       "      <td>Feature</td>\n",
       "      <td>Continuous</td>\n",
       "      <td>None</td>\n",
       "      <td>None</td>\n",
       "      <td>None</td>\n",
       "      <td>no</td>\n",
       "    </tr>\n",
       "    <tr>\n",
       "      <th>15</th>\n",
       "      <td>area2</td>\n",
       "      <td>Feature</td>\n",
       "      <td>Continuous</td>\n",
       "      <td>None</td>\n",
       "      <td>None</td>\n",
       "      <td>None</td>\n",
       "      <td>no</td>\n",
       "    </tr>\n",
       "    <tr>\n",
       "      <th>16</th>\n",
       "      <td>smoothness2</td>\n",
       "      <td>Feature</td>\n",
       "      <td>Continuous</td>\n",
       "      <td>None</td>\n",
       "      <td>None</td>\n",
       "      <td>None</td>\n",
       "      <td>no</td>\n",
       "    </tr>\n",
       "    <tr>\n",
       "      <th>17</th>\n",
       "      <td>compactness2</td>\n",
       "      <td>Feature</td>\n",
       "      <td>Continuous</td>\n",
       "      <td>None</td>\n",
       "      <td>None</td>\n",
       "      <td>None</td>\n",
       "      <td>no</td>\n",
       "    </tr>\n",
       "    <tr>\n",
       "      <th>18</th>\n",
       "      <td>concavity2</td>\n",
       "      <td>Feature</td>\n",
       "      <td>Continuous</td>\n",
       "      <td>None</td>\n",
       "      <td>None</td>\n",
       "      <td>None</td>\n",
       "      <td>no</td>\n",
       "    </tr>\n",
       "    <tr>\n",
       "      <th>19</th>\n",
       "      <td>concave_points2</td>\n",
       "      <td>Feature</td>\n",
       "      <td>Continuous</td>\n",
       "      <td>None</td>\n",
       "      <td>None</td>\n",
       "      <td>None</td>\n",
       "      <td>no</td>\n",
       "    </tr>\n",
       "    <tr>\n",
       "      <th>20</th>\n",
       "      <td>symmetry2</td>\n",
       "      <td>Feature</td>\n",
       "      <td>Continuous</td>\n",
       "      <td>None</td>\n",
       "      <td>None</td>\n",
       "      <td>None</td>\n",
       "      <td>no</td>\n",
       "    </tr>\n",
       "    <tr>\n",
       "      <th>21</th>\n",
       "      <td>fractal_dimension2</td>\n",
       "      <td>Feature</td>\n",
       "      <td>Continuous</td>\n",
       "      <td>None</td>\n",
       "      <td>None</td>\n",
       "      <td>None</td>\n",
       "      <td>no</td>\n",
       "    </tr>\n",
       "    <tr>\n",
       "      <th>22</th>\n",
       "      <td>radius3</td>\n",
       "      <td>Feature</td>\n",
       "      <td>Continuous</td>\n",
       "      <td>None</td>\n",
       "      <td>None</td>\n",
       "      <td>None</td>\n",
       "      <td>no</td>\n",
       "    </tr>\n",
       "    <tr>\n",
       "      <th>23</th>\n",
       "      <td>texture3</td>\n",
       "      <td>Feature</td>\n",
       "      <td>Continuous</td>\n",
       "      <td>None</td>\n",
       "      <td>None</td>\n",
       "      <td>None</td>\n",
       "      <td>no</td>\n",
       "    </tr>\n",
       "    <tr>\n",
       "      <th>24</th>\n",
       "      <td>perimeter3</td>\n",
       "      <td>Feature</td>\n",
       "      <td>Continuous</td>\n",
       "      <td>None</td>\n",
       "      <td>None</td>\n",
       "      <td>None</td>\n",
       "      <td>no</td>\n",
       "    </tr>\n",
       "    <tr>\n",
       "      <th>25</th>\n",
       "      <td>area3</td>\n",
       "      <td>Feature</td>\n",
       "      <td>Continuous</td>\n",
       "      <td>None</td>\n",
       "      <td>None</td>\n",
       "      <td>None</td>\n",
       "      <td>no</td>\n",
       "    </tr>\n",
       "    <tr>\n",
       "      <th>26</th>\n",
       "      <td>smoothness3</td>\n",
       "      <td>Feature</td>\n",
       "      <td>Continuous</td>\n",
       "      <td>None</td>\n",
       "      <td>None</td>\n",
       "      <td>None</td>\n",
       "      <td>no</td>\n",
       "    </tr>\n",
       "    <tr>\n",
       "      <th>27</th>\n",
       "      <td>compactness3</td>\n",
       "      <td>Feature</td>\n",
       "      <td>Continuous</td>\n",
       "      <td>None</td>\n",
       "      <td>None</td>\n",
       "      <td>None</td>\n",
       "      <td>no</td>\n",
       "    </tr>\n",
       "    <tr>\n",
       "      <th>28</th>\n",
       "      <td>concavity3</td>\n",
       "      <td>Feature</td>\n",
       "      <td>Continuous</td>\n",
       "      <td>None</td>\n",
       "      <td>None</td>\n",
       "      <td>None</td>\n",
       "      <td>no</td>\n",
       "    </tr>\n",
       "    <tr>\n",
       "      <th>29</th>\n",
       "      <td>concave_points3</td>\n",
       "      <td>Feature</td>\n",
       "      <td>Continuous</td>\n",
       "      <td>None</td>\n",
       "      <td>None</td>\n",
       "      <td>None</td>\n",
       "      <td>no</td>\n",
       "    </tr>\n",
       "    <tr>\n",
       "      <th>30</th>\n",
       "      <td>symmetry3</td>\n",
       "      <td>Feature</td>\n",
       "      <td>Continuous</td>\n",
       "      <td>None</td>\n",
       "      <td>None</td>\n",
       "      <td>None</td>\n",
       "      <td>no</td>\n",
       "    </tr>\n",
       "    <tr>\n",
       "      <th>31</th>\n",
       "      <td>fractal_dimension3</td>\n",
       "      <td>Feature</td>\n",
       "      <td>Continuous</td>\n",
       "      <td>None</td>\n",
       "      <td>None</td>\n",
       "      <td>None</td>\n",
       "      <td>no</td>\n",
       "    </tr>\n",
       "  </tbody>\n",
       "</table>\n",
       "</div>"
      ],
      "text/plain": [
       "                  name     role         type demographic description units  \\\n",
       "0                   ID       ID  Categorical        None        None  None   \n",
       "1            Diagnosis   Target  Categorical        None        None  None   \n",
       "2              radius1  Feature   Continuous        None        None  None   \n",
       "3             texture1  Feature   Continuous        None        None  None   \n",
       "4           perimeter1  Feature   Continuous        None        None  None   \n",
       "5                area1  Feature   Continuous        None        None  None   \n",
       "6          smoothness1  Feature   Continuous        None        None  None   \n",
       "7         compactness1  Feature   Continuous        None        None  None   \n",
       "8           concavity1  Feature   Continuous        None        None  None   \n",
       "9      concave_points1  Feature   Continuous        None        None  None   \n",
       "10           symmetry1  Feature   Continuous        None        None  None   \n",
       "11  fractal_dimension1  Feature   Continuous        None        None  None   \n",
       "12             radius2  Feature   Continuous        None        None  None   \n",
       "13            texture2  Feature   Continuous        None        None  None   \n",
       "14          perimeter2  Feature   Continuous        None        None  None   \n",
       "15               area2  Feature   Continuous        None        None  None   \n",
       "16         smoothness2  Feature   Continuous        None        None  None   \n",
       "17        compactness2  Feature   Continuous        None        None  None   \n",
       "18          concavity2  Feature   Continuous        None        None  None   \n",
       "19     concave_points2  Feature   Continuous        None        None  None   \n",
       "20           symmetry2  Feature   Continuous        None        None  None   \n",
       "21  fractal_dimension2  Feature   Continuous        None        None  None   \n",
       "22             radius3  Feature   Continuous        None        None  None   \n",
       "23            texture3  Feature   Continuous        None        None  None   \n",
       "24          perimeter3  Feature   Continuous        None        None  None   \n",
       "25               area3  Feature   Continuous        None        None  None   \n",
       "26         smoothness3  Feature   Continuous        None        None  None   \n",
       "27        compactness3  Feature   Continuous        None        None  None   \n",
       "28          concavity3  Feature   Continuous        None        None  None   \n",
       "29     concave_points3  Feature   Continuous        None        None  None   \n",
       "30           symmetry3  Feature   Continuous        None        None  None   \n",
       "31  fractal_dimension3  Feature   Continuous        None        None  None   \n",
       "\n",
       "   missing_values  \n",
       "0              no  \n",
       "1              no  \n",
       "2              no  \n",
       "3              no  \n",
       "4              no  \n",
       "5              no  \n",
       "6              no  \n",
       "7              no  \n",
       "8              no  \n",
       "9              no  \n",
       "10             no  \n",
       "11             no  \n",
       "12             no  \n",
       "13             no  \n",
       "14             no  \n",
       "15             no  \n",
       "16             no  \n",
       "17             no  \n",
       "18             no  \n",
       "19             no  \n",
       "20             no  \n",
       "21             no  \n",
       "22             no  \n",
       "23             no  \n",
       "24             no  \n",
       "25             no  \n",
       "26             no  \n",
       "27             no  \n",
       "28             no  \n",
       "29             no  \n",
       "30             no  \n",
       "31             no  "
      ]
     },
     "execution_count": 34,
     "metadata": {},
     "output_type": "execute_result"
    }
   ],
   "source": [
    "breast = fetch_ucirepo(id=17)\n",
    "bb = breast.variables\n",
    "filename_bb = breast.metadata.name\n",
    "bb"
   ]
  },
  {
   "cell_type": "code",
   "execution_count": 35,
   "id": "e77ba572-2394-4743-812c-3c5761950884",
   "metadata": {},
   "outputs": [],
   "source": [
    "bb_feature = bb.loc[bb['role'] == 'Feature']\n",
    "bb_cont_features_df = bb_feature.loc[bb_feature['type'] == 'Continuous']\n",
    "bb_cat_features_df = bb_feature.loc[bb_feature['type'] == 'Categorical']\n",
    "bb_cont_features = bb_cont_features_df[\"name\"].tolist()\n",
    "bb_cat_features = bb_cat_features_df[\"name\"].tolist()"
   ]
  },
  {
   "cell_type": "code",
   "execution_count": 260,
   "id": "98921d08-67f2-4fdf-98de-b551868747ae",
   "metadata": {},
   "outputs": [
    {
     "data": {
      "text/plain": [
       "2"
      ]
     },
     "execution_count": 260,
     "metadata": {},
     "output_type": "execute_result"
    }
   ],
   "source": [
    "y = np.ravel(breast.data.targets)\n",
    "clusters = np.unique(y)\n",
    "clusters_to_int = {clust: i for i, clust in enumerate(clusters)}\n",
    "z_true_17 = np.vectorize(clusters_to_int.get)(y)\n",
    "len(set(z_true_17))"
   ]
  },
  {
   "cell_type": "code",
   "execution_count": 37,
   "id": "c15e5175-d74a-4837-b287-0dd323f0680c",
   "metadata": {},
   "outputs": [
    {
     "name": "stdout",
     "output_type": "stream",
     "text": [
      "[]\n",
      "['radius1', 'texture1', 'perimeter1', 'area1', 'smoothness1', 'compactness1', 'concavity1', 'concave_points1', 'symmetry1', 'fractal_dimension1', 'radius2', 'texture2', 'perimeter2', 'area2', 'smoothness2', 'compactness2', 'concavity2', 'concave_points2', 'symmetry2', 'fractal_dimension2', 'radius3', 'texture3', 'perimeter3', 'area3', 'smoothness3', 'compactness3', 'concavity3', 'concave_points3', 'symmetry3', 'fractal_dimension3']\n"
     ]
    }
   ],
   "source": [
    "print(bb_cat_features)\n",
    "print(bb_cont_features)"
   ]
  },
  {
   "cell_type": "code",
   "execution_count": 38,
   "id": "fdfe269f-6641-4ad7-89d4-dcee286b4e0a",
   "metadata": {},
   "outputs": [
    {
     "data": {
      "text/plain": [
       "'dataUCI/Breast Cancer Wisconsin (Diagnostic).labels'"
      ]
     },
     "execution_count": 38,
     "metadata": {},
     "output_type": "execute_result"
    }
   ],
   "source": [
    "N = breast.data.features.shape[0]\n",
    "gD = len(bb_cont_features)\n",
    "\n",
    "X = np.zeros((N, gD))\n",
    "\n",
    "for i in range(gD):\n",
    "    X[:, i] = breast.data.features[bb_cont_features[i]]\n",
    "\n",
    "utils.saveData(f\"{uci_data_dir}/{filename_bb}.gauss.csv\", X, \"data\")\n",
    "utils.saveData(f\"{uci_data_dir}/{filename_bb}.labels\", z_true_17, \"labels\")\n"
   ]
  },
  {
   "cell_type": "code",
   "execution_count": 39,
   "id": "7421114d-852b-4e22-9600-991734e74d8a",
   "metadata": {},
   "outputs": [
    {
     "name": "stderr",
     "output_type": "stream",
     "text": [
      "┌ Warning: `@add_arg_table` is deprecated, use `@add_arg_table!` instead\n",
      "└ @ ArgParse :-1\n"
     ]
    },
    {
     "name": "stdout",
     "output_type": "stream",
     "text": [
      "−−−−−−−−−−−−−−−−−−−−−−−−−−−−−−−−−−−−−−−−−−−−−−−−−−\n",
      "                    Parameters\n",
      "−−−−−−−−−−−−−−−−−−−−−−−−−−−−−−−−−−−−−−−−−−−−−−−−−−\n",
      "c (pseudocount)                       : 0.5\n",
      "μ₀ (normal-gamma param)               : 0.0\n",
      "β₀ (normal-gamma param)               : 0.5\n",
      "a₀ (normal-gamma param)               : 0.5\n",
      "b₀ (normal-gamma param)               : 0.5\n",
      "lrow_c (number of categorical columns): 0\n",
      "lrow_n (number of numeric columns)    : 30\n",
      "nrows (total number of rows)          : 569\n",
      "maxnclust (max clusters, 0=no limit)  : 0\n",
      "nclust (fixed #clusters, 0= not fixed): 0\n",
      "model selection criterion             : Marginal likelihood (TI)\n",
      "niter                                 : 10\n",
      "\n",
      "Input filename                        : dataUCI/Breast Cancer Wisconsin (Diagnostic).gauss.csv\n",
      "Output filename                       : dataUCI/Breast Cancer Wisconsin (Diagnostic).gauss.csv.labels.thichet\n",
      "−−−−−−−−−−−−−−−−−−−−−−−−−−−−−−−−−−−−−−−−−−−−−−−−−−\n"
     ]
    },
    {
     "data": {
      "text/plain": [
       "'dataUCI/Breast Cancer Wisconsin (Diagnostic).pred.mmm.time'"
      ]
     },
     "execution_count": 39,
     "metadata": {},
     "output_type": "execute_result"
    }
   ],
   "source": [
    "start_time = time.perf_counter()\n",
    "\n",
    "os.system(f\"julia mmm.jl '{uci_data_dir}/{filename_bb}.gauss.csv'\")\n",
    "z_pred_mmm_uci_17 = utils.extractData(f\"{uci_data_dir}/{filename_bb}.gauss.csv.labels.thichet\", \"labels\")\n",
    "\n",
    "mmm_ari_uci_17 = round(adjusted_rand_score(z_pred_mmm_uci_17, z_true_17), 3)\n",
    "mmm_time_uci_17 = round(time.perf_counter() - start_time ,3)\n",
    "\n",
    "utils.saveData(f\"{uci_data_dir}/{filename_bb}.pred.mmm.labels\", z_pred_mmm_uci_17, \"labels\")\n",
    "utils.saveData(f\"{uci_data_dir}/{filename_bb}.pred.mmm.time\", mmm_time_uci_17, \"single\")"
   ]
  },
  {
   "cell_type": "code",
   "execution_count": null,
   "id": "f26708e9-59f2-4115-a2dc-2bda9046f573",
   "metadata": {},
   "outputs": [],
   "source": []
  },
  {
   "cell_type": "code",
   "execution_count": 46,
   "id": "82a24c93-e182-438b-a29f-7221288bbc96",
   "metadata": {},
   "outputs": [
    {
     "name": "stdout",
     "output_type": "stream",
     "text": [
      "\n",
      "dataUCI/Breast Cancer Wisconsin (Diagnostic)\n",
      "\n",
      "Run:  1\n",
      "49/50               \n",
      "Run: 1, K:4, BIC: 24752.29423488369, logmax post: -11614.881465346685, max_post_iter: 30\n",
      "\n",
      "Run:  2\n",
      "49/50               \n",
      "Run: 2, K:2, BIC: 19928.863226817462, logmax post: -9583.798787361151, max_post_iter: 33\n",
      "\n",
      "Run:  3\n",
      "49/50               \n",
      "Run: 3, K:4, BIC: 24751.790192386452, logmax post: -11614.629444098066, max_post_iter: 39\n"
     ]
    },
    {
     "data": {
      "text/plain": [
       "'dataUCI/Breast Cancer Wisconsin (Diagnostic).pred.bayes.time'"
      ]
     },
     "execution_count": 46,
     "metadata": {},
     "output_type": "execute_result"
    }
   ],
   "source": [
    "print(f\"\\n{uci_data_dir}/{filename_bb}\")\n",
    "\n",
    "start_time = time.perf_counter()\n",
    "X = utils.extractData(f\"{uci_data_dir}/{filename_bb}.gauss.csv\", \"data\")\n",
    "\n",
    "est = DiagGaussian(alpha = 1.0, m_0_partial = 0, k_0 = 0.03, v_0_partial = 3, S_0_partial = 0.3, iterations=50, runs = 3)\n",
    "\n",
    "est.sample(X)\n",
    "bayes_pred_uci_17 = est.assignments()\n",
    "bayes_ari_uci_17 = round(adjusted_rand_score(bayes_pred_uci_17, z_true_17), 3)\n",
    "bayes_time_uci_17 = round(time.perf_counter() - start_time ,3)\n",
    "utils.saveData(f\"{uci_data_dir}/{filename_bb}.pred.bayes.labels\", bayes_pred_uci_17, \"labels\")\n",
    "utils.saveData(f\"{uci_data_dir}/{filename_bb}.pred.bayes.time\", bayes_time_uci_17, \"single\")"
   ]
  },
  {
   "cell_type": "code",
   "execution_count": 203,
   "id": "2095fb45-4e0a-4eb1-847a-b0ac24b09317",
   "metadata": {},
   "outputs": [
    {
     "name": "stdout",
     "output_type": "stream",
     "text": [
      "\n",
      "dataUCI/Breast Cancer Wisconsin (Diagnostic)\n",
      "\n",
      "Run:  1\n",
      "49/50               \n",
      "Run: 1, K:2, BIC: 6062.013518685587, logmax post: -3009.5067593427934, max_post_iter: 34\n",
      "Final features:\n",
      "[[0 0 0 0 0 0 0 0 0 0 0 0 0 0 0 0 0 0 0 0 0 0 0 0 0 0 0 0 0 0]\n",
      " [1 1 1 1 0 0 0 0 0 0 1 1 1 1 0 0 0 0 0 0 1 1 1 1 0 0 1 0 0 0]]\n",
      "\n",
      "Run:  2\n",
      "49/50               \n",
      "Run: 2, K:2, BIC: 6017.45162949529, logmax post: -2987.225814747645, max_post_iter: 2\n",
      "Final features:\n",
      "[[0 0 0 0 0 0 0 0 0 0 0 0 0 0 0 0 0 0 0 0 0 0 0 0 0 0 0 0 0 0]\n",
      " [1 1 1 1 0 0 0 0 0 0 1 1 1 1 0 0 0 0 0 0 1 1 1 1 0 0 1 0 0 0]]\n"
     ]
    },
    {
     "data": {
      "text/plain": [
       "'dataUCI/Breast Cancer Wisconsin (Diagnostic).pred.bayes.time'"
      ]
     },
     "execution_count": 203,
     "metadata": {},
     "output_type": "execute_result"
    }
   ],
   "source": [
    "print(f\"\\n{uci_data_dir}/{filename_bb}\")\n",
    "\n",
    "start_time = time.perf_counter()\n",
    "X = utils.extractData(f\"{uci_data_dir}/{filename_bb}.gauss.csv\", \"data\")\n",
    "\n",
    "est = DiagGaussianFS(alpha = 1.0, m_0_partial = 0, k_0 = 0.03, v_0_partial = 3, S_0_partial = 0.3, iterations=50, runs = 2, K_initial=len(set(z_true_17)), FS=True)\n",
    "\n",
    "est.sample(X)\n",
    "bayes_pred_uci_17 = est.assignments()\n",
    "bayes_ari_uci_17 = round(adjusted_rand_score(bayes_pred_uci_17, z_true_17), 3)\n",
    "bayes_time_uci_17 = round(time.perf_counter() - start_time ,3)\n",
    "utils.saveData(f\"{uci_data_dir}/{filename_bb}.pred.bayes.labels\", bayes_pred_uci_17, \"labels\")\n",
    "utils.saveData(f\"{uci_data_dir}/{filename_bb}.pred.bayes.time\", bayes_time_uci_17, \"single\")"
   ]
  },
  {
   "cell_type": "code",
   "execution_count": 195,
   "id": "91e4bbf5-b64e-45f4-8efb-9d26189d2f58",
   "metadata": {},
   "outputs": [
    {
     "data": {
      "text/plain": [
       "'dataUCI/Breast Cancer Wisconsin (Diagnostic).pred.em.time'"
      ]
     },
     "execution_count": 195,
     "metadata": {},
     "output_type": "execute_result"
    }
   ],
   "source": [
    "start_time = time.perf_counter()\n",
    "training_runs_EM = 5\n",
    "EM_gmm = GaussianMixture(n_components=len(set(z_true_17)), n_init=training_runs_EM)\n",
    "X = utils.extractData(f\"{uci_data_dir}/{filename_bb}.gauss.csv\", \"data\")\n",
    "EM_gmm.fit(X)\n",
    "z_pred_EM = EM_gmm.predict(X)\n",
    "\n",
    "em_ari_uci_17 = round(adjusted_rand_score(z_pred_EM, z_true_17), 3)\n",
    "em_time_uci_17 = round(time.perf_counter() - start_time ,3)\n",
    "\n",
    "utils.saveData(f\"{uci_data_dir}/{filename_bb}.pred.em.labels\", z_pred_EM, \"labels\")\n",
    "utils.saveData(f\"{uci_data_dir}/{filename_bb}.pred.em.time\", em_time_uci_17, \"single\")\n"
   ]
  },
  {
   "cell_type": "code",
   "execution_count": 198,
   "id": "4cbfaa4a-c6d0-4490-b2ed-e6da46de8494",
   "metadata": {},
   "outputs": [
    {
     "name": "stdout",
     "output_type": "stream",
     "text": [
      "Best BIC: -38148.47774325239 K: 2\n"
     ]
    },
    {
     "data": {
      "text/plain": [
       "'dataUCI/Breast Cancer Wisconsin (Diagnostic).pred.em_unknown_K.time'"
      ]
     },
     "execution_count": 198,
     "metadata": {},
     "output_type": "execute_result"
    }
   ],
   "source": [
    "start_time = time.process_time()\n",
    "training_runs_EM = 2\n",
    "\n",
    "best_BIC = np.inf\n",
    "X = utils.extractData(f\"{uci_data_dir}/{filename_bb}.gauss.csv\", \"data\")\n",
    "\n",
    "for K in range(2, 21):\n",
    "    EM_gmm = GaussianMixture(n_components=K, n_init=training_runs_EM)\n",
    "    EM_gmm.fit(X)\n",
    "    gmm_BIC = EM_gmm.bic(X)\n",
    "    # print(f\"BIC: {gmm_BIC} K: {K}\")\n",
    "    \n",
    "    if gmm_BIC < best_BIC:\n",
    "        best_BIC = gmm_BIC\n",
    "        best_gmm = EM_gmm\n",
    "\n",
    "z_pred_EM_unknownK = best_gmm.predict(X)\n",
    "print(f\"Best BIC: {best_BIC} K: {len(set(z_pred_EM_unknownK))}\")\n",
    "\n",
    "em_ari_uK_uci_17 = round(adjusted_rand_score(z_pred_EM_unknownK, z_true_17), 3)\n",
    "em_time_uK_uci_17 = round(time.perf_counter() - start_time ,3)\n",
    "\n",
    "utils.saveData(f\"{uci_data_dir}/{filename_bb}.pred.em_unknown_K.labels\", z_pred_EM_unknownK, \"labels\")\n",
    "utils.saveData(f\"{uci_data_dir}/{filename_bb}.pred.em_unknown_K.time\", time.process_time() - start_time, \"single\")"
   ]
  },
  {
   "cell_type": "code",
   "execution_count": 200,
   "id": "ee2d27e8-86b1-4772-9dc5-acb76ade0da0",
   "metadata": {},
   "outputs": [
    {
     "data": {
      "text/plain": [
       "2"
      ]
     },
     "execution_count": 200,
     "metadata": {},
     "output_type": "execute_result"
    }
   ],
   "source": [
    "len(set(z_true_17))"
   ]
  },
  {
   "cell_type": "code",
   "execution_count": 204,
   "id": "67364162-f8a5-48f5-970e-2220c9f1072c",
   "metadata": {},
   "outputs": [
    {
     "name": "stdout",
     "output_type": "stream",
     "text": [
      "0.646 0.646 0.812 0.812\n",
      "79.348 44.913 2.042 386864.413\n"
     ]
    }
   ],
   "source": [
    "print(bayes_ari_uci_17, mmm_ari_uci_17, em_ari_uci_17, em_ari_uK_uci_17)\n",
    "print(bayes_time_uci_17, mmm_time_uci_17, em_time_uci_17, em_time_uK_uci_17)"
   ]
  },
  {
   "cell_type": "code",
   "execution_count": null,
   "id": "7332c6a2-c1ce-4736-8102-5e6203d86ec0",
   "metadata": {},
   "outputs": [],
   "source": []
  },
  {
   "cell_type": "markdown",
   "id": "b3cad8b6-44e9-4aea-be5f-05f32f1b753c",
   "metadata": {},
   "source": [
    "## Abalone \n",
    "\n",
    "https://archive.ics.uci.edu/dataset/1/abalone"
   ]
  },
  {
   "cell_type": "code",
   "execution_count": 48,
   "id": "45c1eb7c-c3b3-4d6f-9a18-515de7a4885b",
   "metadata": {},
   "outputs": [
    {
     "data": {
      "text/html": [
       "<div>\n",
       "<style scoped>\n",
       "    .dataframe tbody tr th:only-of-type {\n",
       "        vertical-align: middle;\n",
       "    }\n",
       "\n",
       "    .dataframe tbody tr th {\n",
       "        vertical-align: top;\n",
       "    }\n",
       "\n",
       "    .dataframe thead th {\n",
       "        text-align: right;\n",
       "    }\n",
       "</style>\n",
       "<table border=\"1\" class=\"dataframe\">\n",
       "  <thead>\n",
       "    <tr style=\"text-align: right;\">\n",
       "      <th></th>\n",
       "      <th>name</th>\n",
       "      <th>role</th>\n",
       "      <th>type</th>\n",
       "      <th>demographic</th>\n",
       "      <th>description</th>\n",
       "      <th>units</th>\n",
       "      <th>missing_values</th>\n",
       "    </tr>\n",
       "  </thead>\n",
       "  <tbody>\n",
       "    <tr>\n",
       "      <th>0</th>\n",
       "      <td>Sex</td>\n",
       "      <td>Feature</td>\n",
       "      <td>Categorical</td>\n",
       "      <td>None</td>\n",
       "      <td>M, F, and I (infant)</td>\n",
       "      <td>None</td>\n",
       "      <td>no</td>\n",
       "    </tr>\n",
       "    <tr>\n",
       "      <th>1</th>\n",
       "      <td>Length</td>\n",
       "      <td>Feature</td>\n",
       "      <td>Continuous</td>\n",
       "      <td>None</td>\n",
       "      <td>Longest shell measurement</td>\n",
       "      <td>mm</td>\n",
       "      <td>no</td>\n",
       "    </tr>\n",
       "    <tr>\n",
       "      <th>2</th>\n",
       "      <td>Diameter</td>\n",
       "      <td>Feature</td>\n",
       "      <td>Continuous</td>\n",
       "      <td>None</td>\n",
       "      <td>perpendicular to length</td>\n",
       "      <td>mm</td>\n",
       "      <td>no</td>\n",
       "    </tr>\n",
       "    <tr>\n",
       "      <th>3</th>\n",
       "      <td>Height</td>\n",
       "      <td>Feature</td>\n",
       "      <td>Continuous</td>\n",
       "      <td>None</td>\n",
       "      <td>with meat in shell</td>\n",
       "      <td>mm</td>\n",
       "      <td>no</td>\n",
       "    </tr>\n",
       "    <tr>\n",
       "      <th>4</th>\n",
       "      <td>Whole_weight</td>\n",
       "      <td>Feature</td>\n",
       "      <td>Continuous</td>\n",
       "      <td>None</td>\n",
       "      <td>whole abalone</td>\n",
       "      <td>grams</td>\n",
       "      <td>no</td>\n",
       "    </tr>\n",
       "    <tr>\n",
       "      <th>5</th>\n",
       "      <td>Shucked_weight</td>\n",
       "      <td>Feature</td>\n",
       "      <td>Continuous</td>\n",
       "      <td>None</td>\n",
       "      <td>weight of meat</td>\n",
       "      <td>grams</td>\n",
       "      <td>no</td>\n",
       "    </tr>\n",
       "    <tr>\n",
       "      <th>6</th>\n",
       "      <td>Viscera_weight</td>\n",
       "      <td>Feature</td>\n",
       "      <td>Continuous</td>\n",
       "      <td>None</td>\n",
       "      <td>gut weight (after bleeding)</td>\n",
       "      <td>grams</td>\n",
       "      <td>no</td>\n",
       "    </tr>\n",
       "    <tr>\n",
       "      <th>7</th>\n",
       "      <td>Shell_weight</td>\n",
       "      <td>Feature</td>\n",
       "      <td>Continuous</td>\n",
       "      <td>None</td>\n",
       "      <td>after being dried</td>\n",
       "      <td>grams</td>\n",
       "      <td>no</td>\n",
       "    </tr>\n",
       "    <tr>\n",
       "      <th>8</th>\n",
       "      <td>Rings</td>\n",
       "      <td>Target</td>\n",
       "      <td>Integer</td>\n",
       "      <td>None</td>\n",
       "      <td>+1.5 gives the age in years</td>\n",
       "      <td>None</td>\n",
       "      <td>no</td>\n",
       "    </tr>\n",
       "  </tbody>\n",
       "</table>\n",
       "</div>"
      ],
      "text/plain": [
       "             name     role         type demographic  \\\n",
       "0             Sex  Feature  Categorical        None   \n",
       "1          Length  Feature   Continuous        None   \n",
       "2        Diameter  Feature   Continuous        None   \n",
       "3          Height  Feature   Continuous        None   \n",
       "4    Whole_weight  Feature   Continuous        None   \n",
       "5  Shucked_weight  Feature   Continuous        None   \n",
       "6  Viscera_weight  Feature   Continuous        None   \n",
       "7    Shell_weight  Feature   Continuous        None   \n",
       "8           Rings   Target      Integer        None   \n",
       "\n",
       "                   description  units missing_values  \n",
       "0         M, F, and I (infant)   None             no  \n",
       "1    Longest shell measurement     mm             no  \n",
       "2      perpendicular to length     mm             no  \n",
       "3           with meat in shell     mm             no  \n",
       "4                whole abalone  grams             no  \n",
       "5               weight of meat  grams             no  \n",
       "6  gut weight (after bleeding)  grams             no  \n",
       "7            after being dried  grams             no  \n",
       "8  +1.5 gives the age in years   None             no  "
      ]
     },
     "execution_count": 48,
     "metadata": {},
     "output_type": "execute_result"
    }
   ],
   "source": [
    "abalone = fetch_ucirepo(id=1)\n",
    "aa = abalone.variables\n",
    "filename_aa = abalone.metadata.name\n",
    "aa"
   ]
  },
  {
   "cell_type": "code",
   "execution_count": 261,
   "id": "e8f3ac7d-9177-4c84-be40-f5eb0d8b4cc5",
   "metadata": {},
   "outputs": [],
   "source": [
    "aa_feature = aa.loc[aa['role'] == 'Feature']\n",
    "aa_cont_features_df = aa_feature.loc[aa_feature['type'] == 'Continuous']\n",
    "aa_cat_features_df = aa_feature.loc[aa_feature['type'] == 'Categorical']\n",
    "aa_cont_features = aa_cont_features_df[\"name\"].tolist()\n",
    "aa_cat_features = aa_cat_features_df[\"name\"].tolist()\n",
    "y = np.ravel(abalone.data.targets)\n",
    "clusters = np.unique(y)\n",
    "clusters_to_int = {clust: i for i, clust in enumerate(clusters)}\n",
    "z_true_1 = np.vectorize(clusters_to_int.get)(y)"
   ]
  },
  {
   "cell_type": "code",
   "execution_count": 262,
   "id": "a49c286f-5a2b-4857-a7e4-07a30b305e38",
   "metadata": {},
   "outputs": [
    {
     "name": "stdout",
     "output_type": "stream",
     "text": [
      "['Sex']\n",
      "['Length', 'Diameter', 'Height', 'Whole_weight', 'Shucked_weight', 'Viscera_weight', 'Shell_weight']\n",
      "28\n"
     ]
    }
   ],
   "source": [
    "print(aa_cat_features)\n",
    "print(aa_cont_features)\n",
    "print(len(set(z_true_1)))"
   ]
  },
  {
   "cell_type": "code",
   "execution_count": 53,
   "id": "60b8dc24-035f-40c9-84a2-5f1a14795a81",
   "metadata": {},
   "outputs": [
    {
     "data": {
      "text/plain": [
       "'dataUCI/Abalone.labels'"
      ]
     },
     "execution_count": 53,
     "metadata": {},
     "output_type": "execute_result"
    }
   ],
   "source": [
    "N = abalone.data.features.shape[0]\n",
    "gD = len(aa_cont_features)\n",
    "cD =  len(aa_cat_features)\n",
    "\n",
    "X = np.zeros((N, gD))\n",
    "C_str = np.zeros((N, cD), 'str')\n",
    "\n",
    "for i in range(gD):\n",
    "    X[:, i] = abalone.data.features[aa_cont_features[i]]\n",
    "for i in range(cD):\n",
    "    C_str[:, i] = abalone.data.features[aa_cat_features[i]]\n",
    "\n",
    "\n",
    "categories = np.unique(C_str)\n",
    "category_to_int = {category: i for i, category in enumerate(categories)}\n",
    "C = np.vectorize(category_to_int.get)(C_str)\n",
    "mixed_data = np.concatenate((X, C), axis=1) \n",
    "\n",
    "utils.saveData(f\"{uci_data_dir}/{filename_aa}.gauss.csv\", X, \"data\")\n",
    "utils.saveData(f\"{uci_data_dir}/{filename_aa}.cat.csv\", C, \"data\")\n",
    "utils.saveData(f\"{uci_data_dir}/{filename_aa}.mixed.csv\", mixed_data, \"data\")\n",
    "utils.saveData(f\"{uci_data_dir}/{filename_aa}.labels\", z_true_1, \"labels\")\n"
   ]
  },
  {
   "cell_type": "code",
   "execution_count": null,
   "id": "ace9976d-26fd-4653-a39e-c3d4ae6c9f43",
   "metadata": {},
   "outputs": [],
   "source": [
    "start_time = time.perf_counter()\n",
    "\n",
    "os.system(f\"julia mmm.jl '{uci_data_dir}/{filename_aa}.mixed.csv'\")\n",
    "z_pred_mmm_uci_1 = utils.extractData(f\"{uci_data_dir}/{filename_aa}.mixed.csv.labels.thichet\", \"labels\")\n",
    "\n",
    "mmm_ari_uci_1 = round(adjusted_rand_score(z_pred_mmm_uci_1, z_true_1), 3)\n",
    "mmm_time_uci_1 = round(time.perf_counter() - start_time ,3)\n",
    "\n",
    "utils.saveData(f\"{uci_data_dir}/{filename_aa}.pred.mmm.labels\", z_pred_mmm_uci_1, \"labels\")\n",
    "utils.saveData(f\"{uci_data_dir}/{filename_aa}.pred.mmm.time\", mmm_time_uci_1, \"single\")"
   ]
  },
  {
   "cell_type": "code",
   "execution_count": null,
   "id": "241a91ad-08e4-4b8d-aa0a-b17c661929ca",
   "metadata": {},
   "outputs": [],
   "source": []
  },
  {
   "cell_type": "code",
   "execution_count": 59,
   "id": "34123daa-3b86-479d-9711-11f94fbc1101",
   "metadata": {},
   "outputs": [
    {
     "name": "stdout",
     "output_type": "stream",
     "text": [
      "\n",
      "dataUCI/Abalone\n",
      "\n",
      "Run:  1\n",
      "29/30               \n",
      "Run: 1, K:6, BIC: -233350.79709938006, logmax post: 58525.289617546194, max_post_iter: 17\n",
      "\n",
      "Run:  2\n",
      "29/30               \n",
      "Run: 2, K:6, BIC: -232859.8696507404, logmax post: 58402.55775538628, max_post_iter: 8\n"
     ]
    },
    {
     "data": {
      "text/plain": [
       "'dataUCI/Abalone.pred.bayes.time'"
      ]
     },
     "execution_count": 59,
     "metadata": {},
     "output_type": "execute_result"
    }
   ],
   "source": [
    "print(f\"\\n{uci_data_dir}/{filename_aa}\")\n",
    "\n",
    "start_time = time.perf_counter()\n",
    "X = utils.extractData(f\"{uci_data_dir}/{filename_aa}.gauss.csv\", \"data\")\n",
    "C = utils.extractData(f\"{uci_data_dir}/{filename_aa}.cat.csv\", \"data_int\")\n",
    "\n",
    "est = DiagGaussianCategorical(alpha = 1.0, gamma=0.2, m_0_partial = 0, k_0 = 0.03, v_0_partial = 3, S_0_partial = 0.3, K_initial = len(set(z_true_1)), iterations=30, runs = 2)\n",
    "est.sample(X, C)\n",
    "\n",
    "bayes_pred_uci_1 = est.assignments()\n",
    "bayes_ari_uci_1 = round(adjusted_rand_score(bayes_pred_uci_1, z_true_1), 3)\n",
    "bayes_time_uci_1 = round(time.perf_counter() - start_time ,3)\n",
    "utils.saveData(f\"{uci_data_dir}/{filename_aa}.pred.bayes.labels\", bayes_pred_uci_1, \"labels\")\n",
    "utils.saveData(f\"{uci_data_dir}/{filename_aa}.pred.bayes.time\", bayes_time_uci_1, \"single\")\n"
   ]
  },
  {
   "cell_type": "code",
   "execution_count": 257,
   "id": "6199cc2f-ebde-4d1f-84aa-7319429ca5b8",
   "metadata": {},
   "outputs": [
    {
     "name": "stdout",
     "output_type": "stream",
     "text": [
      "\n",
      "dataUCI/Abalone\n",
      "\n",
      "Run:  1\n",
      "29/30               \n",
      "Run: 1, K:6, BIC: -123588.84249535263, logmax post: 62144.58988738519, max_post_iter: 30\n",
      "\n",
      "Run:  2\n",
      "29/30               \n",
      "Run: 2, K:6, BIC: -123733.81705021023, logmax post: 62217.07716481399, max_post_iter: 30\n"
     ]
    },
    {
     "data": {
      "text/plain": [
       "'dataUCI/Abalone.pred.bayes.time'"
      ]
     },
     "execution_count": 257,
     "metadata": {},
     "output_type": "execute_result"
    }
   ],
   "source": [
    "print(f\"\\n{uci_data_dir}/{filename_aa}\")\n",
    "\n",
    "start_time = time.perf_counter()\n",
    "X = utils.extractData(f\"{uci_data_dir}/{filename_aa}.gauss.csv\", \"data\")\n",
    "C = utils.extractData(f\"{uci_data_dir}/{filename_aa}.cat.csv\", \"data_int\")\n",
    "\n",
    "est = DiagGaussian(alpha = 1.0, m_0_partial = 0, k_0 = 0.03, v_0_partial = 3, S_0_partial = 0.3, K_initial = len(set(z_true_1)), iterations=30, runs = 2)\n",
    "est.sample(X)\n",
    "\n",
    "bayes_gauss_pred_uci_1 = est.assignments()\n",
    "bayes_gauss_ari_uci_1 = round(adjusted_rand_score(bayes_gauss_pred_uci_1, z_true_1), 3)\n",
    "bayes_gauss_time_uci_1 = round(time.perf_counter() - start_time ,3)\n",
    "utils.saveData(f\"{uci_data_dir}/{filename_aa}.pred.bayes.labels\", bayes_gauss_pred_uci_1, \"labels\")\n",
    "utils.saveData(f\"{uci_data_dir}/{filename_aa}.pred.bayes.time\", bayes_gauss_time_uci_1, \"single\")\n",
    "\n",
    "\n"
   ]
  },
  {
   "cell_type": "code",
   "execution_count": 254,
   "id": "3da6b4e7-41d2-43b7-8fde-52ec33b046d5",
   "metadata": {},
   "outputs": [
    {
     "name": "stdout",
     "output_type": "stream",
     "text": [
      "Best BIC: -161159.37891073295 K: 15\n"
     ]
    },
    {
     "data": {
      "text/plain": [
       "'dataUCI/Abalone.pred.em_unknown_K.time'"
      ]
     },
     "execution_count": 254,
     "metadata": {},
     "output_type": "execute_result"
    }
   ],
   "source": [
    "start_time = time.process_time()\n",
    "training_runs_EM = 2\n",
    "\n",
    "best_BIC = np.inf\n",
    "X = utils.extractData(f\"{uci_data_dir}/{filename_aa}.mixed.csv\", \"data\")\n",
    "\n",
    "for K in range(2, 31):\n",
    "    EM_gmm = GaussianMixture(n_components=K, n_init=training_runs_EM)\n",
    "    EM_gmm.fit(X)\n",
    "    gmm_BIC = EM_gmm.bic(X)\n",
    "    # print(f\"BIC: {gmm_BIC} K: {K}\")\n",
    "    \n",
    "    if gmm_BIC < best_BIC:\n",
    "        best_BIC = gmm_BIC\n",
    "        best_gmm = EM_gmm\n",
    "\n",
    "z_pred_EM_unknownK = best_gmm.predict(X)\n",
    "print(f\"Best BIC: {best_BIC} K: {len(set(z_pred_EM_unknownK))}\")\n",
    "\n",
    "em_ari_uK_uci_1 = round(adjusted_rand_score(z_pred_EM_unknownK, z_true_1), 3)\n",
    "em_time_uK_uci_1 = round(time.perf_counter() - start_time ,3)\n",
    "\n",
    "utils.saveData(f\"{uci_data_dir}/{filename_aa}.pred.em_unknown_K.labels\", z_pred_EM_unknownK, \"labels\")\n",
    "utils.saveData(f\"{uci_data_dir}/{filename_aa}.pred.em_unknown_K.time\", time.process_time() - start_time, \"single\")"
   ]
  },
  {
   "cell_type": "code",
   "execution_count": 258,
   "id": "ffc561d8-7461-446e-88ac-9896dc2b9228",
   "metadata": {},
   "outputs": [
    {
     "name": "stdout",
     "output_type": "stream",
     "text": [
      "15\n",
      "6\n",
      "4\n"
     ]
    }
   ],
   "source": [
    "print(len(set(z_pred_EM_unknownK)))\n",
    "print(len(set(bayes_gauss_pred_uci_1)))\n",
    "print(len(set(z_pred_mmm_uci_1)))"
   ]
  },
  {
   "cell_type": "code",
   "execution_count": 259,
   "id": "1be34b2c-ba99-4ce9-9c1e-2b69692c9373",
   "metadata": {},
   "outputs": [
    {
     "name": "stdout",
     "output_type": "stream",
     "text": [
      "0.069 0.066 0.068 0.068\n",
      "59.135 55.111 55.07 386953.553\n"
     ]
    }
   ],
   "source": [
    "print(bayes_ari_uci_1, mmm_ari_uci_1, bayes_gauss_ari_uci_1, em_ari_uK_uci_1)\n",
    "print(bayes_time_uci_1, mmm_time_uci_1, bayes_gauss_time_uci_1, em_time_uK_uci_1)"
   ]
  },
  {
   "cell_type": "markdown",
   "id": "ede49439-07e6-431d-930e-cafa333957f5",
   "metadata": {
    "jp-MarkdownHeadingCollapsed": true
   },
   "source": [
    "## Sonar"
   ]
  },
  {
   "cell_type": "code",
   "execution_count": 146,
   "id": "d6aae4d2-af46-4b95-8342-596b611c40d4",
   "metadata": {},
   "outputs": [
    {
     "data": {
      "text/html": [
       "<div>\n",
       "<style scoped>\n",
       "    .dataframe tbody tr th:only-of-type {\n",
       "        vertical-align: middle;\n",
       "    }\n",
       "\n",
       "    .dataframe tbody tr th {\n",
       "        vertical-align: top;\n",
       "    }\n",
       "\n",
       "    .dataframe thead th {\n",
       "        text-align: right;\n",
       "    }\n",
       "</style>\n",
       "<table border=\"1\" class=\"dataframe\">\n",
       "  <thead>\n",
       "    <tr style=\"text-align: right;\">\n",
       "      <th></th>\n",
       "      <th>name</th>\n",
       "      <th>role</th>\n",
       "      <th>type</th>\n",
       "      <th>demographic</th>\n",
       "      <th>description</th>\n",
       "      <th>units</th>\n",
       "      <th>missing_values</th>\n",
       "    </tr>\n",
       "  </thead>\n",
       "  <tbody>\n",
       "    <tr>\n",
       "      <th>0</th>\n",
       "      <td>Attribute1</td>\n",
       "      <td>Feature</td>\n",
       "      <td>Continuous</td>\n",
       "      <td>None</td>\n",
       "      <td>None</td>\n",
       "      <td>None</td>\n",
       "      <td>no</td>\n",
       "    </tr>\n",
       "    <tr>\n",
       "      <th>1</th>\n",
       "      <td>Attribute2</td>\n",
       "      <td>Feature</td>\n",
       "      <td>Continuous</td>\n",
       "      <td>None</td>\n",
       "      <td>None</td>\n",
       "      <td>None</td>\n",
       "      <td>no</td>\n",
       "    </tr>\n",
       "    <tr>\n",
       "      <th>2</th>\n",
       "      <td>Attribute3</td>\n",
       "      <td>Feature</td>\n",
       "      <td>Continuous</td>\n",
       "      <td>None</td>\n",
       "      <td>None</td>\n",
       "      <td>None</td>\n",
       "      <td>no</td>\n",
       "    </tr>\n",
       "    <tr>\n",
       "      <th>3</th>\n",
       "      <td>Attribute4</td>\n",
       "      <td>Feature</td>\n",
       "      <td>Continuous</td>\n",
       "      <td>None</td>\n",
       "      <td>None</td>\n",
       "      <td>None</td>\n",
       "      <td>no</td>\n",
       "    </tr>\n",
       "    <tr>\n",
       "      <th>4</th>\n",
       "      <td>Attribute5</td>\n",
       "      <td>Feature</td>\n",
       "      <td>Continuous</td>\n",
       "      <td>None</td>\n",
       "      <td>None</td>\n",
       "      <td>None</td>\n",
       "      <td>no</td>\n",
       "    </tr>\n",
       "    <tr>\n",
       "      <th>...</th>\n",
       "      <td>...</td>\n",
       "      <td>...</td>\n",
       "      <td>...</td>\n",
       "      <td>...</td>\n",
       "      <td>...</td>\n",
       "      <td>...</td>\n",
       "      <td>...</td>\n",
       "    </tr>\n",
       "    <tr>\n",
       "      <th>56</th>\n",
       "      <td>Attribute57</td>\n",
       "      <td>Feature</td>\n",
       "      <td>Continuous</td>\n",
       "      <td>None</td>\n",
       "      <td>None</td>\n",
       "      <td>None</td>\n",
       "      <td>no</td>\n",
       "    </tr>\n",
       "    <tr>\n",
       "      <th>57</th>\n",
       "      <td>Attribute58</td>\n",
       "      <td>Feature</td>\n",
       "      <td>Continuous</td>\n",
       "      <td>None</td>\n",
       "      <td>None</td>\n",
       "      <td>None</td>\n",
       "      <td>no</td>\n",
       "    </tr>\n",
       "    <tr>\n",
       "      <th>58</th>\n",
       "      <td>Attribute59</td>\n",
       "      <td>Feature</td>\n",
       "      <td>Continuous</td>\n",
       "      <td>None</td>\n",
       "      <td>None</td>\n",
       "      <td>None</td>\n",
       "      <td>no</td>\n",
       "    </tr>\n",
       "    <tr>\n",
       "      <th>59</th>\n",
       "      <td>Attribute60</td>\n",
       "      <td>Feature</td>\n",
       "      <td>Continuous</td>\n",
       "      <td>None</td>\n",
       "      <td>None</td>\n",
       "      <td>None</td>\n",
       "      <td>no</td>\n",
       "    </tr>\n",
       "    <tr>\n",
       "      <th>60</th>\n",
       "      <td>class</td>\n",
       "      <td>Target</td>\n",
       "      <td>Categorical</td>\n",
       "      <td>None</td>\n",
       "      <td>None</td>\n",
       "      <td>None</td>\n",
       "      <td>no</td>\n",
       "    </tr>\n",
       "  </tbody>\n",
       "</table>\n",
       "<p>61 rows × 7 columns</p>\n",
       "</div>"
      ],
      "text/plain": [
       "           name     role         type demographic description units  \\\n",
       "0    Attribute1  Feature   Continuous        None        None  None   \n",
       "1    Attribute2  Feature   Continuous        None        None  None   \n",
       "2    Attribute3  Feature   Continuous        None        None  None   \n",
       "3    Attribute4  Feature   Continuous        None        None  None   \n",
       "4    Attribute5  Feature   Continuous        None        None  None   \n",
       "..          ...      ...          ...         ...         ...   ...   \n",
       "56  Attribute57  Feature   Continuous        None        None  None   \n",
       "57  Attribute58  Feature   Continuous        None        None  None   \n",
       "58  Attribute59  Feature   Continuous        None        None  None   \n",
       "59  Attribute60  Feature   Continuous        None        None  None   \n",
       "60        class   Target  Categorical        None        None  None   \n",
       "\n",
       "   missing_values  \n",
       "0              no  \n",
       "1              no  \n",
       "2              no  \n",
       "3              no  \n",
       "4              no  \n",
       "..            ...  \n",
       "56             no  \n",
       "57             no  \n",
       "58             no  \n",
       "59             no  \n",
       "60             no  \n",
       "\n",
       "[61 rows x 7 columns]"
      ]
     },
     "execution_count": 146,
     "metadata": {},
     "output_type": "execute_result"
    }
   ],
   "source": [
    "sonar = fetch_ucirepo(id=151)\n",
    "ss = sonar.variables\n",
    "filename_ss = sonar.metadata.name\n",
    "ss"
   ]
  },
  {
   "cell_type": "code",
   "execution_count": 147,
   "id": "27015fb4-ec7c-489c-b910-7b6399eca802",
   "metadata": {},
   "outputs": [],
   "source": [
    "ss_feature = ss.loc[ss['role'] == 'Feature']\n",
    "ss_cont_features_df = ss_feature.loc[ss_feature['type'] == 'Continuous']\n",
    "ss_cat_features_df = ss_feature.loc[ss_feature['type'] == 'Categorical']\n",
    "ss_cont_features = ss_cont_features_df[\"name\"].tolist()\n",
    "ss_cat_features = ss_cat_features_df[\"name\"].tolist()"
   ]
  },
  {
   "cell_type": "code",
   "execution_count": 148,
   "id": "ea5d3fda-0a25-4cde-b723-fcb3368be93f",
   "metadata": {},
   "outputs": [],
   "source": [
    "y = np.ravel(sonar.data.targets)\n",
    "clusters = np.unique(y)\n",
    "clusters_to_int = {clust: i for i, clust in enumerate(clusters)}\n",
    "z_true_sonar = np.vectorize(clusters_to_int.get)(y)"
   ]
  },
  {
   "cell_type": "code",
   "execution_count": 149,
   "id": "63fd4da1-d7f7-46eb-9f1d-5ba57f3cbd52",
   "metadata": {},
   "outputs": [
    {
     "name": "stdout",
     "output_type": "stream",
     "text": [
      "[]\n",
      "['Attribute1', 'Attribute2', 'Attribute3', 'Attribute4', 'Attribute5', 'Attribute6', 'Attribute7', 'Attribute8', 'Attribute9', 'Attribute10', 'Attribute11', 'Attribute12', 'Attribute13', 'Attribute14', 'Attribute15', 'Attribute16', 'Attribute17', 'Attribute18', 'Attribute19', 'Attribute20', 'Attribute21', 'Attribute22', 'Attribute23', 'Attribute24', 'Attribute25', 'Attribute26', 'Attribute27', 'Attribute28', 'Attribute29', 'Attribute30', 'Attribute31', 'Attribute32', 'Attribute33', 'Attribute34', 'Attribute35', 'Attribute36', 'Attribute37', 'Attribute38', 'Attribute39', 'Attribute40', 'Attribute41', 'Attribute42', 'Attribute43', 'Attribute44', 'Attribute45', 'Attribute46', 'Attribute47', 'Attribute48', 'Attribute49', 'Attribute50', 'Attribute51', 'Attribute52', 'Attribute53', 'Attribute54', 'Attribute55', 'Attribute56', 'Attribute57', 'Attribute58', 'Attribute59', 'Attribute60']\n"
     ]
    }
   ],
   "source": [
    "print(ss_cat_features)\n",
    "print(ss_cont_features)"
   ]
  },
  {
   "cell_type": "code",
   "execution_count": 150,
   "id": "6e2d2cf2-a013-40f0-9bc5-4012f32191fb",
   "metadata": {},
   "outputs": [
    {
     "data": {
      "text/plain": [
       "'dataUCI/Connectionist Bench (Sonar, Mines vs. Rocks).labels'"
      ]
     },
     "execution_count": 150,
     "metadata": {},
     "output_type": "execute_result"
    }
   ],
   "source": [
    "N = sonar.data.features.shape[0]\n",
    "gD = len(ss_cont_features)\n",
    "\n",
    "X = np.zeros((N, gD))\n",
    "\n",
    "for i in range(gD):\n",
    "    X[:, i] = sonar.data.features[ss_cont_features[i]]\n",
    "\n",
    "utils.saveData(f\"{uci_data_dir}/{filename_ss}.gauss.csv\", X, \"data\")\n",
    "utils.saveData(f\"{uci_data_dir}/{filename_ss}.labels\", z_true_sonar, \"labels\")\n"
   ]
  },
  {
   "cell_type": "code",
   "execution_count": 30,
   "id": "12c33e5f-3121-4c73-9adc-ae06384758f5",
   "metadata": {},
   "outputs": [
    {
     "name": "stderr",
     "output_type": "stream",
     "text": [
      "┌ Warning: `@add_arg_table` is deprecated, use `@add_arg_table!` instead\n",
      "└ @ ArgParse :-1\n"
     ]
    },
    {
     "name": "stdout",
     "output_type": "stream",
     "text": [
      "−−−−−−−−−−−−−−−−−−−−−−−−−−−−−−−−−−−−−−−−−−−−−−−−−−\n",
      "                    Parameters\n",
      "−−−−−−−−−−−−−−−−−−−−−−−−−−−−−−−−−−−−−−−−−−−−−−−−−−\n",
      "c (pseudocount)                       : 0.5\n",
      "μ₀ (normal-gamma param)               : 0.0\n",
      "β₀ (normal-gamma param)               : 0.5\n",
      "a₀ (normal-gamma param)               : 0.5\n",
      "b₀ (normal-gamma param)               : 0.5\n",
      "lrow_c (number of categorical columns): 0\n",
      "lrow_n (number of numeric columns)    : 60\n",
      "nrows (total number of rows)          : 208\n",
      "maxnclust (max clusters, 0=no limit)  : 0\n",
      "nclust (fixed #clusters, 0= not fixed): 0\n",
      "model selection criterion             : Marginal likelihood (TI)\n",
      "niter                                 : 10\n",
      "\n",
      "Input filename                        : dataUCI/Connectionist Bench (Sonar, Mines vs. Rocks).gauss.csv\n",
      "Output filename                       : dataUCI/Connectionist Bench (Sonar, Mines vs. Rocks).gauss.csv.labels.thichet\n",
      "−−−−−−−−−−−−−−−−−−−−−−−−−−−−−−−−−−−−−−−−−−−−−−−−−−\n"
     ]
    },
    {
     "data": {
      "text/plain": [
       "'dataUCI/Connectionist Bench (Sonar, Mines vs. Rocks).pred.mmm.time'"
      ]
     },
     "execution_count": 30,
     "metadata": {},
     "output_type": "execute_result"
    }
   ],
   "source": [
    "start_time = time.perf_counter()\n",
    "\n",
    "os.system(f\"julia mmm.jl '{uci_data_dir}/{filename_ss}.gauss.csv'\")\n",
    "z_pred_mmm_uci_151 = utils.extractData(f\"{uci_data_dir}/{filename_ss}.gauss.csv.labels.thichet\", \"labels\")\n",
    "\n",
    "mmm_ari_uci_151 = round(adjusted_rand_score(z_pred_mmm_uci_151, z_true_sonar), 3)\n",
    "mmm_time_uci_151 = round(time.perf_counter() - start_time ,3)\n",
    "\n",
    "utils.saveData(f\"{uci_data_dir}/{filename_ss}.pred.mmm.labels\", z_pred_mmm_uci_151, \"labels\")\n",
    "utils.saveData(f\"{uci_data_dir}/{filename_ss}.pred.mmm.time\", mmm_time_uci_151, \"single\")\n"
   ]
  },
  {
   "cell_type": "code",
   "execution_count": 154,
   "id": "e9d1ee7c-4db9-477c-9a2a-1a809ec94bd0",
   "metadata": {},
   "outputs": [
    {
     "name": "stdout",
     "output_type": "stream",
     "text": [
      "\n",
      "dataUCI/Connectionist Bench (Sonar, Mines vs. Rocks)\n",
      "\n",
      "Run:  1\n",
      "29/30               \n",
      "Run: 1, K:3, BIC: -18139.63556296008, logmax post: 9109.81778148004, max_post_iter: 19\n",
      "Final features:\n",
      "[[0 0 0 0 0 0 0 0 0 0 0 0 0 0 0 0 0 0 0 0 0 0 0 0 0 0 0 0 0 0 0 0 0 0 0 0\n",
      "  0 0 0 0 0 0 0 0 0 0 0 0 0 0 0 0 0 0 0 0 0 0 0 0]\n",
      " [0 0 0 0 0 0 0 0 0 0 0 0 0 0 0 0 0 0 0 0 0 0 0 0 0 0 0 0 0 0 0 0 0 0 0 0\n",
      "  0 0 0 0 0 0 0 0 0 0 0 0 0 0 0 0 0 0 0 0 0 0 0 0]\n",
      " [0 0 0 0 0 0 0 0 0 0 0 0 0 0 0 0 1 1 1 1 1 1 1 1 1 0 0 0 1 1 1 1 1 1 1 1\n",
      "  1 1 1 0 0 0 0 0 0 0 0 0 0 0 0 0 0 0 0 0 0 0 0 0]]\n"
     ]
    },
    {
     "data": {
      "text/plain": [
       "'dataUCI/Connectionist Bench (Sonar, Mines vs. Rocks).pred.bayes.time'"
      ]
     },
     "execution_count": 154,
     "metadata": {},
     "output_type": "execute_result"
    }
   ],
   "source": [
    "print(f\"\\n{uci_data_dir}/{filename_ss}\")\n",
    "\n",
    "start_time = time.perf_counter()\n",
    "X = utils.extractData(f\"{uci_data_dir}/{filename_ss}.gauss.csv\", \"data\")\n",
    "\n",
    "est = DiagGaussianFS(alpha = 1.0, m_0_partial = 0, k_0 = 0.03, v_0_partial = 3, S_0_partial = 0.3, K_initial = 3, iterations=30, runs = 10)\n",
    "\n",
    "est.sample(X)\n",
    "bayes_pred_uci_151 = est.assignments()\n",
    "bayes_ari_uci_151 = round(adjusted_rand_score(bayes_pred_uci_151, z_true_sonar), 3)\n",
    "bayes_time_uci_151 = round(time.perf_counter() - start_time ,3)\n",
    "utils.saveData(f\"{uci_data_dir}/{filename_ss}.pred.bayes.labels\", bayes_pred_uci_151, \"labels\")\n",
    "utils.saveData(f\"{uci_data_dir}/{filename_ss}.pred.bayes.time\", bayes_time_uci_151, \"single\")\n"
   ]
  },
  {
   "cell_type": "code",
   "execution_count": null,
   "id": "35089b21-3cee-444a-8963-be20217e60ad",
   "metadata": {},
   "outputs": [],
   "source": []
  },
  {
   "cell_type": "code",
   "execution_count": null,
   "id": "30f7a902-7673-4072-9302-6f1964dc7301",
   "metadata": {},
   "outputs": [],
   "source": []
  },
  {
   "cell_type": "code",
   "execution_count": 155,
   "id": "3111198f-2466-4a15-943e-1a33ef5da655",
   "metadata": {},
   "outputs": [
    {
     "name": "stdout",
     "output_type": "stream",
     "text": [
      "0.004 0.0\n",
      "25.388 41.796\n"
     ]
    }
   ],
   "source": [
    "print(bayes_ari_uci_151, mmm_ari_uci_151)\n",
    "print(bayes_time_uci_151, mmm_time_uci_151)"
   ]
  },
  {
   "cell_type": "code",
   "execution_count": null,
   "id": "43da1cc0-265d-4fb2-87b8-f6ea72c896d9",
   "metadata": {},
   "outputs": [],
   "source": []
  },
  {
   "cell_type": "markdown",
   "id": "1111b66a-9ba2-4c9b-aecd-1d943958e057",
   "metadata": {
    "jp-MarkdownHeadingCollapsed": true
   },
   "source": [
    "## Prima indians diabetes"
   ]
  },
  {
   "cell_type": "code",
   "execution_count": 93,
   "id": "a6d87294-f974-4e1b-8a4c-53e681db3d2f",
   "metadata": {},
   "outputs": [],
   "source": [
    "kaggle_data_dir = \"dataKaggle\"\n",
    "filename_diab = \"diabetesRaw\""
   ]
  },
  {
   "cell_type": "code",
   "execution_count": 94,
   "id": "5002709b-c3ac-443d-9e2d-5a454c23e175",
   "metadata": {},
   "outputs": [],
   "source": [
    "df = pd.read_csv(f'{outDir}/{filename}.csv')\n",
    "z_true_diab = df['Outcome'].tolist()"
   ]
  },
  {
   "cell_type": "code",
   "execution_count": 120,
   "id": "71c82a4f-48a2-482c-b081-5cf68380bec3",
   "metadata": {},
   "outputs": [],
   "source": [
    "df = pd.read_csv(f'{outDir}/{filename}.csv')\n",
    "X = df.to_numpy()[1:, :-1]\n",
    "X = X.astype(float)\n",
    "# print(X)\n",
    "# print(df)\n",
    "X_gl = df['Glucose'].to_numpy()\n",
    "X_bp = df['BloodPressure'].to_numpy()\n",
    "X_bmi = df['BMI'].to_numpy()"
   ]
  },
  {
   "cell_type": "code",
   "execution_count": 123,
   "id": "e66bcafc-2bb2-4b36-a969-a790379c3453",
   "metadata": {},
   "outputs": [],
   "source": [
    "X = np.zeros((len(X_gl), 3), float)"
   ]
  },
  {
   "cell_type": "code",
   "execution_count": 125,
   "id": "d0929293-ab00-41f0-ab57-379a7e5a92b2",
   "metadata": {},
   "outputs": [
    {
     "data": {
      "text/plain": [
       "array([[148. ,  72. ,  33.6],\n",
       "       [ 85. ,  66. ,  26.6],\n",
       "       [183. ,  64. ,  23.3],\n",
       "       ...,\n",
       "       [121. ,  72. ,  26.2],\n",
       "       [126. ,  60. ,  30.1],\n",
       "       [ 93. ,  70. ,  30.4]])"
      ]
     },
     "execution_count": 125,
     "metadata": {},
     "output_type": "execute_result"
    }
   ],
   "source": [
    "X[:, 0] = X_gl\n",
    "X[:, 1] = X_bp\n",
    "X[:, 2] = X_bmi\n",
    "X"
   ]
  },
  {
   "cell_type": "code",
   "execution_count": 126,
   "id": "fccffc69-942f-43e6-84b6-fed0b22ced06",
   "metadata": {},
   "outputs": [
    {
     "data": {
      "text/plain": [
       "'dataKaggle/diabetesRaw.labels'"
      ]
     },
     "execution_count": 126,
     "metadata": {},
     "output_type": "execute_result"
    }
   ],
   "source": [
    "utils.saveData(f\"{kaggle_data_dir}/{filename_diab}.gauss.csv\", X, \"data\")\n",
    "utils.saveData(f\"{kaggle_data_dir}/{filename_diab}.labels\", z_true_diab, \"labels\")"
   ]
  },
  {
   "cell_type": "code",
   "execution_count": 127,
   "id": "01bec956-e037-40ac-bae2-f2f4376f2d3b",
   "metadata": {},
   "outputs": [
    {
     "name": "stderr",
     "output_type": "stream",
     "text": [
      "┌ Warning: `@add_arg_table` is deprecated, use `@add_arg_table!` instead\n",
      "└ @ ArgParse :-1\n"
     ]
    },
    {
     "name": "stdout",
     "output_type": "stream",
     "text": [
      "−−−−−−−−−−−−−−−−−−−−−−−−−−−−−−−−−−−−−−−−−−−−−−−−−−\n",
      "                    Parameters\n",
      "−−−−−−−−−−−−−−−−−−−−−−−−−−−−−−−−−−−−−−−−−−−−−−−−−−\n",
      "c (pseudocount)                       : 0.5\n",
      "μ₀ (normal-gamma param)               : 0.0\n",
      "β₀ (normal-gamma param)               : 0.5\n",
      "a₀ (normal-gamma param)               : 0.5\n",
      "b₀ (normal-gamma param)               : 0.5\n",
      "lrow_c (number of categorical columns): 0\n",
      "lrow_n (number of numeric columns)    : 3\n",
      "nrows (total number of rows)          : 768\n",
      "maxnclust (max clusters, 0=no limit)  : 0\n",
      "nclust (fixed #clusters, 0= not fixed): 0\n",
      "model selection criterion             : Marginal likelihood (TI)\n",
      "niter                                 : 10\n",
      "\n",
      "Input filename                        : dataKaggle/diabetesRaw.gauss.csv\n",
      "Output filename                       : dataKaggle/diabetesRaw.gauss.csv.labels.thichet\n",
      "−−−−−−−−−−−−−−−−−−−−−−−−−−−−−−−−−−−−−−−−−−−−−−−−−−\n"
     ]
    },
    {
     "data": {
      "text/plain": [
       "'dataKaggle/diabetesRaw.pred.mmm.time'"
      ]
     },
     "execution_count": 127,
     "metadata": {},
     "output_type": "execute_result"
    }
   ],
   "source": [
    "start_time = time.perf_counter()\n",
    "\n",
    "os.system(f\"julia mmm.jl '{kaggle_data_dir}/{filename_diab}.gauss.csv'\")\n",
    "z_pred_mmm_kaggle_diab = utils.extractData(f\"{kaggle_data_dir}/{filename_diab}.gauss.csv.labels.thichet\", \"labels\")\n",
    "\n",
    "mmm_ari_kaggle_diab = round(adjusted_rand_score(z_pred_mmm_kaggle_diab, z_true_diab), 3)\n",
    "mmm_time_kaggle_diab = round(time.perf_counter() - start_time ,3)\n",
    "\n",
    "utils.saveData(f\"{kaggle_data_dir}/{filename_diab}.pred.mmm.labels\", z_pred_mmm_kaggle_diab, \"labels\")\n",
    "utils.saveData(f\"{kaggle_data_dir}/{filename_diab}.pred.mmm.time\", mmm_time_kaggle_diab, \"single\")"
   ]
  },
  {
   "cell_type": "code",
   "execution_count": 128,
   "id": "f2f00f18-51b1-4ae2-9f5b-73ecbc3e089f",
   "metadata": {},
   "outputs": [
    {
     "name": "stdout",
     "output_type": "stream",
     "text": [
      "\n",
      "dataKaggle/diabetesRaw\n",
      "\n",
      "Run:  1\n",
      "49/50               \n",
      "Run: 1, K:2, BIC: 10819.960355293846, logmax post: -5370.117439248037, max_post_iter: 21\n",
      "\n",
      "Run:  2\n",
      "49/50               \n",
      "Run: 2, K:2, BIC: 10819.293530364468, logmax post: -5369.784026783348, max_post_iter: 10\n",
      "\n",
      "Run:  3\n",
      "49/50               \n",
      "Run: 3, K:2, BIC: 10875.306579475007, logmax post: -5397.790551338618, max_post_iter: 30\n",
      "\n",
      "Run:  4\n",
      "49/50               \n",
      "Run: 4, K:2, BIC: 10847.66340670137, logmax post: -5383.968964951799, max_post_iter: 50\n",
      "\n",
      "Run:  5\n",
      "49/50               \n",
      "Run: 5, K:2, BIC: 10862.826920401933, logmax post: -5391.55072180208, max_post_iter: 45\n"
     ]
    },
    {
     "data": {
      "text/plain": [
       "'dataKaggle/diabetesRaw.pred.bayes.time'"
      ]
     },
     "execution_count": 128,
     "metadata": {},
     "output_type": "execute_result"
    }
   ],
   "source": [
    "print(f\"\\n{kaggle_data_dir}/{filename_diab}\")\n",
    "\n",
    "start_time = time.perf_counter()\n",
    "X = utils.extractData(f\"{kaggle_data_dir}/{filename_diab}.gauss.csv\", \"data\")\n",
    "\n",
    "est = DiagGaussian(alpha = 1.0, m_0_partial = 0, k_0 = 0.03, v_0_partial = 3, S_0_partial = 0.3, K_initial = len(set(z_true_diab)), iterations=50, runs = 5)\n",
    "est.sample(X)\n",
    "\n",
    "bayes_pred_kaggle_diab = est.assignments()\n",
    "bayes_ari_kaggle_diab = round(adjusted_rand_score(bayes_pred_kaggle_diab, z_true_diab), 3)\n",
    "bayes_time_kaggle_diab = round(time.perf_counter() - start_time ,3)\n",
    "utils.saveData(f\"{kaggle_data_dir}/{filename_diab}.pred.bayes.labels\", bayes_pred_kaggle_diab, \"labels\")\n",
    "utils.saveData(f\"{kaggle_data_dir}/{filename_diab}.pred.bayes.time\", bayes_time_kaggle_diab, \"single\")\n"
   ]
  },
  {
   "cell_type": "code",
   "execution_count": 129,
   "id": "c8fd8129-5c3c-444b-95d1-e0fd20c4e8e2",
   "metadata": {},
   "outputs": [
    {
     "name": "stdout",
     "output_type": "stream",
     "text": [
      "0.007 0.099\n",
      "36.579 38.007\n"
     ]
    }
   ],
   "source": [
    "print(bayes_ari_kaggle_diab, mmm_ari_kaggle_diab)\n",
    "print(bayes_time_kaggle_diab, mmm_time_kaggle_diab)"
   ]
  },
  {
   "cell_type": "code",
   "execution_count": null,
   "id": "b7f74bd9-689e-411f-a3df-4166180012f3",
   "metadata": {},
   "outputs": [],
   "source": []
  },
  {
   "cell_type": "markdown",
   "id": "1ce79d3b-9950-4efe-8e71-f46a0e4f0c59",
   "metadata": {},
   "source": [
    "## Ecoli"
   ]
  },
  {
   "cell_type": "code",
   "execution_count": 130,
   "id": "c23eb58f-ebbe-4a34-ace8-8a91e6161881",
   "metadata": {},
   "outputs": [
    {
     "data": {
      "text/html": [
       "<div>\n",
       "<style scoped>\n",
       "    .dataframe tbody tr th:only-of-type {\n",
       "        vertical-align: middle;\n",
       "    }\n",
       "\n",
       "    .dataframe tbody tr th {\n",
       "        vertical-align: top;\n",
       "    }\n",
       "\n",
       "    .dataframe thead th {\n",
       "        text-align: right;\n",
       "    }\n",
       "</style>\n",
       "<table border=\"1\" class=\"dataframe\">\n",
       "  <thead>\n",
       "    <tr style=\"text-align: right;\">\n",
       "      <th></th>\n",
       "      <th>name</th>\n",
       "      <th>role</th>\n",
       "      <th>type</th>\n",
       "      <th>demographic</th>\n",
       "      <th>description</th>\n",
       "      <th>units</th>\n",
       "      <th>missing_values</th>\n",
       "    </tr>\n",
       "  </thead>\n",
       "  <tbody>\n",
       "    <tr>\n",
       "      <th>0</th>\n",
       "      <td>Sequence</td>\n",
       "      <td>ID</td>\n",
       "      <td>Categorical</td>\n",
       "      <td>None</td>\n",
       "      <td>Accession number for the SWISS-PROT database</td>\n",
       "      <td>None</td>\n",
       "      <td>no</td>\n",
       "    </tr>\n",
       "    <tr>\n",
       "      <th>1</th>\n",
       "      <td>mcg</td>\n",
       "      <td>Feature</td>\n",
       "      <td>Continuous</td>\n",
       "      <td>None</td>\n",
       "      <td>McGeoch's method for signal sequence recognition</td>\n",
       "      <td>None</td>\n",
       "      <td>no</td>\n",
       "    </tr>\n",
       "    <tr>\n",
       "      <th>2</th>\n",
       "      <td>gvh</td>\n",
       "      <td>Feature</td>\n",
       "      <td>Continuous</td>\n",
       "      <td>None</td>\n",
       "      <td>von Heijne's method for signal sequence recogn...</td>\n",
       "      <td>None</td>\n",
       "      <td>no</td>\n",
       "    </tr>\n",
       "    <tr>\n",
       "      <th>3</th>\n",
       "      <td>lip</td>\n",
       "      <td>Feature</td>\n",
       "      <td>Binary</td>\n",
       "      <td>None</td>\n",
       "      <td>von Heijne's Signal Peptidase II consensus seq...</td>\n",
       "      <td>None</td>\n",
       "      <td>no</td>\n",
       "    </tr>\n",
       "    <tr>\n",
       "      <th>4</th>\n",
       "      <td>chg</td>\n",
       "      <td>Feature</td>\n",
       "      <td>Binary</td>\n",
       "      <td>None</td>\n",
       "      <td>Presence of charge on N-terminus of predicted ...</td>\n",
       "      <td>None</td>\n",
       "      <td>no</td>\n",
       "    </tr>\n",
       "    <tr>\n",
       "      <th>5</th>\n",
       "      <td>aac</td>\n",
       "      <td>Feature</td>\n",
       "      <td>Continuous</td>\n",
       "      <td>None</td>\n",
       "      <td>score of discriminant analysis of the amino ac...</td>\n",
       "      <td>None</td>\n",
       "      <td>no</td>\n",
       "    </tr>\n",
       "    <tr>\n",
       "      <th>6</th>\n",
       "      <td>alm1</td>\n",
       "      <td>Feature</td>\n",
       "      <td>Continuous</td>\n",
       "      <td>None</td>\n",
       "      <td>score of the ALOM membrane spanning region pre...</td>\n",
       "      <td>None</td>\n",
       "      <td>no</td>\n",
       "    </tr>\n",
       "    <tr>\n",
       "      <th>7</th>\n",
       "      <td>alm2</td>\n",
       "      <td>Feature</td>\n",
       "      <td>Continuous</td>\n",
       "      <td>None</td>\n",
       "      <td>score of ALOM program after excluding putative...</td>\n",
       "      <td>None</td>\n",
       "      <td>no</td>\n",
       "    </tr>\n",
       "    <tr>\n",
       "      <th>8</th>\n",
       "      <td>class</td>\n",
       "      <td>Target</td>\n",
       "      <td>Categorical</td>\n",
       "      <td>None</td>\n",
       "      <td>None</td>\n",
       "      <td>None</td>\n",
       "      <td>no</td>\n",
       "    </tr>\n",
       "  </tbody>\n",
       "</table>\n",
       "</div>"
      ],
      "text/plain": [
       "       name     role         type demographic  \\\n",
       "0  Sequence       ID  Categorical        None   \n",
       "1       mcg  Feature   Continuous        None   \n",
       "2       gvh  Feature   Continuous        None   \n",
       "3       lip  Feature       Binary        None   \n",
       "4       chg  Feature       Binary        None   \n",
       "5       aac  Feature   Continuous        None   \n",
       "6      alm1  Feature   Continuous        None   \n",
       "7      alm2  Feature   Continuous        None   \n",
       "8     class   Target  Categorical        None   \n",
       "\n",
       "                                         description units missing_values  \n",
       "0       Accession number for the SWISS-PROT database  None             no  \n",
       "1   McGeoch's method for signal sequence recognition  None             no  \n",
       "2  von Heijne's method for signal sequence recogn...  None             no  \n",
       "3  von Heijne's Signal Peptidase II consensus seq...  None             no  \n",
       "4  Presence of charge on N-terminus of predicted ...  None             no  \n",
       "5  score of discriminant analysis of the amino ac...  None             no  \n",
       "6  score of the ALOM membrane spanning region pre...  None             no  \n",
       "7  score of ALOM program after excluding putative...  None             no  \n",
       "8                                               None  None             no  "
      ]
     },
     "execution_count": 130,
     "metadata": {},
     "output_type": "execute_result"
    }
   ],
   "source": [
    "ecoli = fetch_ucirepo(id=39)\n",
    "ee = ecoli.variables\n",
    "filename_ee = ecoli.metadata.name\n",
    "ee"
   ]
  },
  {
   "cell_type": "code",
   "execution_count": 264,
   "id": "b5e6cf3e-9060-4e44-9707-5302ac796f18",
   "metadata": {},
   "outputs": [
    {
     "data": {
      "text/plain": [
       "8"
      ]
     },
     "execution_count": 264,
     "metadata": {},
     "output_type": "execute_result"
    }
   ],
   "source": [
    "ee_feature = ee.loc[ee['role'] == 'Feature']\n",
    "ee_cont_features_df = ee_feature.loc[ee_feature['type'] == 'Continuous']\n",
    "ee_cat_features_df = ee_feature.loc[ee_feature['type'] == 'Binary']\n",
    "ee_cont_features = ee_cont_features_df[\"name\"].tolist()\n",
    "ee_cat_features = ee_cat_features_df[\"name\"].tolist()\n",
    "y = np.ravel(ecoli.data.targets)\n",
    "clusters = np.unique(y)\n",
    "clusters_to_int = {clust: i for i, clust in enumerate(clusters)}\n",
    "z_true_ee = np.vectorize(clusters_to_int.get)(y)\n",
    "len(set(z_true_ee))"
   ]
  },
  {
   "cell_type": "code",
   "execution_count": 132,
   "id": "94a966cb-d6bc-41b1-a59d-45df6ed7d10e",
   "metadata": {},
   "outputs": [
    {
     "name": "stdout",
     "output_type": "stream",
     "text": [
      "['lip', 'chg']\n",
      "['mcg', 'gvh', 'aac', 'alm1', 'alm2']\n"
     ]
    }
   ],
   "source": [
    "print(ee_cat_features)\n",
    "print(ee_cont_features)"
   ]
  },
  {
   "cell_type": "code",
   "execution_count": 133,
   "id": "3ef8c93d-4911-4011-80f4-9d1a825f45b8",
   "metadata": {},
   "outputs": [
    {
     "data": {
      "text/plain": [
       "'dataUCI/Ecoli.labels'"
      ]
     },
     "execution_count": 133,
     "metadata": {},
     "output_type": "execute_result"
    }
   ],
   "source": [
    "N = ecoli.data.features.shape[0]\n",
    "gD = len(ee_cont_features)\n",
    "cD =  len(ee_cat_features)\n",
    "\n",
    "X = np.zeros((N, gD))\n",
    "C_str = np.zeros((N, cD), 'str')\n",
    "\n",
    "for i in range(gD):\n",
    "    X[:, i] = ecoli.data.features[ee_cont_features[i]]\n",
    "for i in range(cD):\n",
    "    C_str[:, i] = ecoli.data.features[ee_cat_features[i]]\n",
    "\n",
    "\n",
    "categories = np.unique(C_str)\n",
    "category_to_int = {category: i for i, category in enumerate(categories)}\n",
    "C = np.vectorize(category_to_int.get)(C_str)\n",
    "mixed_data = np.concatenate((X, C), axis=1) \n",
    "\n",
    "utils.saveData(f\"{uci_data_dir}/{filename_ee}.gauss.csv\", X, \"data\")\n",
    "utils.saveData(f\"{uci_data_dir}/{filename_ee}.cat.csv\", C, \"data\")\n",
    "utils.saveData(f\"{uci_data_dir}/{filename_ee}.mixed.csv\", mixed_data, \"data\")\n",
    "utils.saveData(f\"{uci_data_dir}/{filename_ee}.labels\", z_true_1, \"labels\")\n"
   ]
  },
  {
   "cell_type": "code",
   "execution_count": 135,
   "id": "fb79af98-99c1-48ad-a5da-72579d310d66",
   "metadata": {},
   "outputs": [
    {
     "name": "stderr",
     "output_type": "stream",
     "text": [
      "┌ Warning: `@add_arg_table` is deprecated, use `@add_arg_table!` instead\n",
      "└ @ ArgParse :-1\n"
     ]
    },
    {
     "name": "stdout",
     "output_type": "stream",
     "text": [
      "−−−−−−−−−−−−−−−−−−−−−−−−−−−−−−−−−−−−−−−−−−−−−−−−−−\n",
      "                    Parameters\n",
      "−−−−−−−−−−−−−−−−−−−−−−−−−−−−−−−−−−−−−−−−−−−−−−−−−−\n",
      "c (pseudocount)                       : 0.5\n",
      "μ₀ (normal-gamma param)               : 0.0\n",
      "β₀ (normal-gamma param)               : 0.5\n",
      "a₀ (normal-gamma param)               : 0.5\n",
      "b₀ (normal-gamma param)               : 0.5\n",
      "lrow_c (number of categorical columns): 0\n",
      "lrow_n (number of numeric columns)    : 7\n",
      "nrows (total number of rows)          : 336\n",
      "maxnclust (max clusters, 0=no limit)  : 0\n",
      "nclust (fixed #clusters, 0= not fixed): 0\n",
      "model selection criterion             : Marginal likelihood (TI)\n",
      "niter                                 : 10\n",
      "\n",
      "Input filename                        : dataUCI/Ecoli.mixed.csv\n",
      "Output filename                       : dataUCI/Ecoli.mixed.csv.labels.thichet\n",
      "−−−−−−−−−−−−−−−−−−−−−−−−−−−−−−−−−−−−−−−−−−−−−−−−−−\n"
     ]
    },
    {
     "data": {
      "text/plain": [
       "'dataUCI/Ecoli.pred.mmm.time'"
      ]
     },
     "execution_count": 135,
     "metadata": {},
     "output_type": "execute_result"
    }
   ],
   "source": [
    "start_time = time.perf_counter()\n",
    "\n",
    "os.system(f\"julia mmm.jl '{uci_data_dir}/{filename_ee}.mixed.csv'\")\n",
    "z_pred_mmm_uci_39 = utils.extractData(f\"{uci_data_dir}/{filename_ee}.mixed.csv.labels.thichet\", \"labels\")\n",
    "\n",
    "mmm_ari_uci_39 = round(adjusted_rand_score(z_pred_mmm_uci_39, z_true_ee), 3)\n",
    "mmm_time_uci_39 = round(time.perf_counter() - start_time ,3)\n",
    "\n",
    "utils.saveData(f\"{uci_data_dir}/{filename_ee}.pred.mmm.labels\", z_pred_mmm_uci_39, \"labels\")\n",
    "utils.saveData(f\"{uci_data_dir}/{filename_ee}.pred.mmm.time\", mmm_time_uci_39, \"single\")"
   ]
  },
  {
   "cell_type": "code",
   "execution_count": 144,
   "id": "f6898403-8e73-407f-bd1b-9fbc739fb38b",
   "metadata": {},
   "outputs": [
    {
     "name": "stdout",
     "output_type": "stream",
     "text": [
      "\n",
      "dataUCI/Ecoli\n",
      "\n",
      "Run:  1\n",
      "199/200               \n",
      "Run: 1, K:2, BIC: -8561.22974974561, logmax post: 2175.2101043961816, max_post_iter: 142\n"
     ]
    },
    {
     "data": {
      "text/plain": [
       "'dataUCI/Ecoli.pred.bayes.time'"
      ]
     },
     "execution_count": 144,
     "metadata": {},
     "output_type": "execute_result"
    }
   ],
   "source": [
    "print(f\"\\n{uci_data_dir}/{filename_ee}\")\n",
    "\n",
    "start_time = time.perf_counter()\n",
    "X = utils.extractData(f\"{uci_data_dir}/{filename_ee}.gauss.csv\", \"data\")\n",
    "C = utils.extractData(f\"{uci_data_dir}/{filename_ee}.cat.csv\", \"data_int\")\n",
    "\n",
    "est = DiagGaussianCategorical(alpha = 1.0, gamma=0.2, m_0_partial = 0, k_0 = 0.03, v_0_partial = 3, S_0_partial = 0.3, iterations=200, runs = 1)\n",
    "est.sample(X, C)\n",
    "\n",
    "bayes_pred_uci_39 = est.assignments()\n",
    "bayes_ari_uci_39 = round(adjusted_rand_score(bayes_pred_uci_39, z_true_ee), 3)\n",
    "bayes_time_uci_39 = round(time.perf_counter() - start_time ,3)\n",
    "utils.saveData(f\"{uci_data_dir}/{filename_ee}.pred.bayes.labels\", bayes_pred_uci_39, \"labels\")\n",
    "utils.saveData(f\"{uci_data_dir}/{filename_ee}.pred.bayes.time\", bayes_time_uci_39, \"single\")\n"
   ]
  },
  {
   "cell_type": "code",
   "execution_count": 230,
   "id": "6eae205e-ccde-4f9a-8ade-a07044671fec",
   "metadata": {},
   "outputs": [
    {
     "name": "stdout",
     "output_type": "stream",
     "text": [
      "\n",
      "dataUCI/Ecoli\n",
      "\n",
      "Run:  1\n",
      "5/200               \n",
      "Run: 1, K:2, BIC: -5392.091696004724, logmax post: 2777.485404241847, max_post_iter: 3\n"
     ]
    },
    {
     "data": {
      "text/plain": [
       "'dataUCI/Ecoli.pred.bayes.time'"
      ]
     },
     "execution_count": 230,
     "metadata": {},
     "output_type": "execute_result"
    }
   ],
   "source": [
    "print(f\"\\n{uci_data_dir}/{filename_ee}\")\n",
    "\n",
    "start_time = time.perf_counter()\n",
    "X = utils.extractData(f\"{uci_data_dir}/{filename_ee}.gauss.csv\", \"data\")\n",
    "C = utils.extractData(f\"{uci_data_dir}/{filename_ee}.cat.csv\", \"data_int\")\n",
    "\n",
    "est = DiagGaussian(alpha = 1.0, K_initial = 2, m_0_partial = 0, k_0 = 0.03, v_0_partial = 3, S_0_partial = 0.3, iterations=200, runs = 1)\n",
    "est.sample(X)\n",
    "\n",
    "bayesgauss_pred_uci_39 = est.assignments()\n",
    "bayesgauss_ari_uci_39 = round(adjusted_rand_score(bayesgauss_pred_uci_39, z_true_ee), 3)\n",
    "bayesgauss_time_uci_39 = round(time.perf_counter() - start_time ,3)\n",
    "utils.saveData(f\"{uci_data_dir}/{filename_ee}.pred.bayes.labels\", bayesgauss_pred_uci_39, \"labels\")\n",
    "utils.saveData(f\"{uci_data_dir}/{filename_ee}.pred.bayes.time\", bayesgauss_time_uci_39, \"single\")\n"
   ]
  },
  {
   "cell_type": "code",
   "execution_count": 227,
   "id": "a89b0246-866e-4e40-a35b-e256889a3be2",
   "metadata": {},
   "outputs": [
    {
     "name": "stdout",
     "output_type": "stream",
     "text": [
      "Best BIC: -2902.918112620195 K: 4\n"
     ]
    },
    {
     "data": {
      "text/plain": [
       "'dataUCI/Abalone.pred.em_unknown_K.time'"
      ]
     },
     "execution_count": 227,
     "metadata": {},
     "output_type": "execute_result"
    }
   ],
   "source": [
    "\n",
    "start_time = time.process_time()\n",
    "training_runs_EM = 2\n",
    "\n",
    "best_BIC = np.inf\n",
    "X = utils.extractData(f\"{uci_data_dir}/{filename_ee}.gauss.csv\", \"data\")\n",
    "\n",
    "for K in range(2, 11):\n",
    "    EM_gmm = GaussianMixture(n_components=K, n_init=training_runs_EM)\n",
    "    EM_gmm.fit(X)\n",
    "    gmm_BIC = EM_gmm.bic(X)\n",
    "    # print(f\"BIC: {gmm_BIC} K: {K}\")\n",
    "    \n",
    "    if gmm_BIC < best_BIC:\n",
    "        best_BIC = gmm_BIC\n",
    "        best_gmm = EM_gmm\n",
    "\n",
    "\n",
    "z_pred_EM_unknownK = best_gmm.predict(X)\n",
    "print(f\"Best BIC: {best_BIC} K: {len(set(z_pred_EM_unknownK))}\")\n",
    "\n",
    "em_ari_uK_uci_39 = round(adjusted_rand_score(z_pred_EM_unknownK, z_true_ee), 3)\n",
    "em_time_uK_uci_39 = round(time.perf_counter() - start_time ,3)\n",
    "\n",
    "utils.saveData(f\"{uci_data_dir}/{filename_aa}.pred.em_unknown_K.labels\", z_pred_EM_unknownK, \"labels\")\n",
    "utils.saveData(f\"{uci_data_dir}/{filename_aa}.pred.em_unknown_K.time\", time.process_time() - start_time, \"single\")"
   ]
  },
  {
   "cell_type": "code",
   "execution_count": 231,
   "id": "f496ed0f-1963-4408-9985-4fbfb2481eda",
   "metadata": {},
   "outputs": [
    {
     "name": "stdout",
     "output_type": "stream",
     "text": [
      "0.391 0.448 0.038 0.59\n",
      "19.567 37.6 0.939 385458.25\n"
     ]
    }
   ],
   "source": [
    "print(bayes_ari_uci_39, mmm_ari_uci_39, bayesgauss_ari_uci_39, em_ari_uK_uci_39 )\n",
    "print(bayes_time_uci_39, mmm_time_uci_39, bayesgauss_time_uci_39, em_time_uK_uci_39 )"
   ]
  },
  {
   "cell_type": "code",
   "execution_count": 229,
   "id": "aa0f9ed2-6476-458a-b410-c1b7482e96c8",
   "metadata": {},
   "outputs": [
    {
     "name": "stdout",
     "output_type": "stream",
     "text": [
      "2\n",
      "2\n",
      "2\n",
      "4\n"
     ]
    }
   ],
   "source": [
    "print(len(set(em_pred_uci_39)))\n",
    "print(len(set(bayes_pred_uci_39)))\n",
    "print(len(set(z_pred_mmm_uci_39)))\n",
    "print(len(set(z_pred_EM_unknownK)))"
   ]
  },
  {
   "cell_type": "markdown",
   "id": "3e1e5489-094f-4d46-9225-2ea78e367411",
   "metadata": {
    "jp-MarkdownHeadingCollapsed": true
   },
   "source": [
    "## Ionosphere"
   ]
  },
  {
   "cell_type": "code",
   "execution_count": 156,
   "id": "3630203c-af9a-4e2e-8c5b-2e05a58da587",
   "metadata": {},
   "outputs": [
    {
     "data": {
      "text/html": [
       "<div>\n",
       "<style scoped>\n",
       "    .dataframe tbody tr th:only-of-type {\n",
       "        vertical-align: middle;\n",
       "    }\n",
       "\n",
       "    .dataframe tbody tr th {\n",
       "        vertical-align: top;\n",
       "    }\n",
       "\n",
       "    .dataframe thead th {\n",
       "        text-align: right;\n",
       "    }\n",
       "</style>\n",
       "<table border=\"1\" class=\"dataframe\">\n",
       "  <thead>\n",
       "    <tr style=\"text-align: right;\">\n",
       "      <th></th>\n",
       "      <th>name</th>\n",
       "      <th>role</th>\n",
       "      <th>type</th>\n",
       "      <th>demographic</th>\n",
       "      <th>description</th>\n",
       "      <th>units</th>\n",
       "      <th>missing_values</th>\n",
       "    </tr>\n",
       "  </thead>\n",
       "  <tbody>\n",
       "    <tr>\n",
       "      <th>0</th>\n",
       "      <td>Attribute1</td>\n",
       "      <td>Feature</td>\n",
       "      <td>Continuous</td>\n",
       "      <td>None</td>\n",
       "      <td>None</td>\n",
       "      <td>None</td>\n",
       "      <td>no</td>\n",
       "    </tr>\n",
       "    <tr>\n",
       "      <th>1</th>\n",
       "      <td>Attribute2</td>\n",
       "      <td>Feature</td>\n",
       "      <td>Continuous</td>\n",
       "      <td>None</td>\n",
       "      <td>None</td>\n",
       "      <td>None</td>\n",
       "      <td>no</td>\n",
       "    </tr>\n",
       "    <tr>\n",
       "      <th>2</th>\n",
       "      <td>Attribute3</td>\n",
       "      <td>Feature</td>\n",
       "      <td>Continuous</td>\n",
       "      <td>None</td>\n",
       "      <td>None</td>\n",
       "      <td>None</td>\n",
       "      <td>no</td>\n",
       "    </tr>\n",
       "    <tr>\n",
       "      <th>3</th>\n",
       "      <td>Attribute4</td>\n",
       "      <td>Feature</td>\n",
       "      <td>Continuous</td>\n",
       "      <td>None</td>\n",
       "      <td>None</td>\n",
       "      <td>None</td>\n",
       "      <td>no</td>\n",
       "    </tr>\n",
       "    <tr>\n",
       "      <th>4</th>\n",
       "      <td>Attribute5</td>\n",
       "      <td>Feature</td>\n",
       "      <td>Continuous</td>\n",
       "      <td>None</td>\n",
       "      <td>None</td>\n",
       "      <td>None</td>\n",
       "      <td>no</td>\n",
       "    </tr>\n",
       "    <tr>\n",
       "      <th>5</th>\n",
       "      <td>Attribute6</td>\n",
       "      <td>Feature</td>\n",
       "      <td>Continuous</td>\n",
       "      <td>None</td>\n",
       "      <td>None</td>\n",
       "      <td>None</td>\n",
       "      <td>no</td>\n",
       "    </tr>\n",
       "    <tr>\n",
       "      <th>6</th>\n",
       "      <td>Attribute7</td>\n",
       "      <td>Feature</td>\n",
       "      <td>Continuous</td>\n",
       "      <td>None</td>\n",
       "      <td>None</td>\n",
       "      <td>None</td>\n",
       "      <td>no</td>\n",
       "    </tr>\n",
       "    <tr>\n",
       "      <th>7</th>\n",
       "      <td>Attribute8</td>\n",
       "      <td>Feature</td>\n",
       "      <td>Continuous</td>\n",
       "      <td>None</td>\n",
       "      <td>None</td>\n",
       "      <td>None</td>\n",
       "      <td>no</td>\n",
       "    </tr>\n",
       "    <tr>\n",
       "      <th>8</th>\n",
       "      <td>Attribute9</td>\n",
       "      <td>Feature</td>\n",
       "      <td>Continuous</td>\n",
       "      <td>None</td>\n",
       "      <td>None</td>\n",
       "      <td>None</td>\n",
       "      <td>no</td>\n",
       "    </tr>\n",
       "    <tr>\n",
       "      <th>9</th>\n",
       "      <td>Attribute10</td>\n",
       "      <td>Feature</td>\n",
       "      <td>Continuous</td>\n",
       "      <td>None</td>\n",
       "      <td>None</td>\n",
       "      <td>None</td>\n",
       "      <td>no</td>\n",
       "    </tr>\n",
       "    <tr>\n",
       "      <th>10</th>\n",
       "      <td>Attribute11</td>\n",
       "      <td>Feature</td>\n",
       "      <td>Continuous</td>\n",
       "      <td>None</td>\n",
       "      <td>None</td>\n",
       "      <td>None</td>\n",
       "      <td>no</td>\n",
       "    </tr>\n",
       "    <tr>\n",
       "      <th>11</th>\n",
       "      <td>Attribute12</td>\n",
       "      <td>Feature</td>\n",
       "      <td>Continuous</td>\n",
       "      <td>None</td>\n",
       "      <td>None</td>\n",
       "      <td>None</td>\n",
       "      <td>no</td>\n",
       "    </tr>\n",
       "    <tr>\n",
       "      <th>12</th>\n",
       "      <td>Attribute13</td>\n",
       "      <td>Feature</td>\n",
       "      <td>Continuous</td>\n",
       "      <td>None</td>\n",
       "      <td>None</td>\n",
       "      <td>None</td>\n",
       "      <td>no</td>\n",
       "    </tr>\n",
       "    <tr>\n",
       "      <th>13</th>\n",
       "      <td>Attribute14</td>\n",
       "      <td>Feature</td>\n",
       "      <td>Continuous</td>\n",
       "      <td>None</td>\n",
       "      <td>None</td>\n",
       "      <td>None</td>\n",
       "      <td>no</td>\n",
       "    </tr>\n",
       "    <tr>\n",
       "      <th>14</th>\n",
       "      <td>Attribute15</td>\n",
       "      <td>Feature</td>\n",
       "      <td>Continuous</td>\n",
       "      <td>None</td>\n",
       "      <td>None</td>\n",
       "      <td>None</td>\n",
       "      <td>no</td>\n",
       "    </tr>\n",
       "    <tr>\n",
       "      <th>15</th>\n",
       "      <td>Attribute16</td>\n",
       "      <td>Feature</td>\n",
       "      <td>Continuous</td>\n",
       "      <td>None</td>\n",
       "      <td>None</td>\n",
       "      <td>None</td>\n",
       "      <td>no</td>\n",
       "    </tr>\n",
       "    <tr>\n",
       "      <th>16</th>\n",
       "      <td>Attribute17</td>\n",
       "      <td>Feature</td>\n",
       "      <td>Continuous</td>\n",
       "      <td>None</td>\n",
       "      <td>None</td>\n",
       "      <td>None</td>\n",
       "      <td>no</td>\n",
       "    </tr>\n",
       "    <tr>\n",
       "      <th>17</th>\n",
       "      <td>Attribute18</td>\n",
       "      <td>Feature</td>\n",
       "      <td>Continuous</td>\n",
       "      <td>None</td>\n",
       "      <td>None</td>\n",
       "      <td>None</td>\n",
       "      <td>no</td>\n",
       "    </tr>\n",
       "    <tr>\n",
       "      <th>18</th>\n",
       "      <td>Attribute19</td>\n",
       "      <td>Feature</td>\n",
       "      <td>Continuous</td>\n",
       "      <td>None</td>\n",
       "      <td>None</td>\n",
       "      <td>None</td>\n",
       "      <td>no</td>\n",
       "    </tr>\n",
       "    <tr>\n",
       "      <th>19</th>\n",
       "      <td>Attribute20</td>\n",
       "      <td>Feature</td>\n",
       "      <td>Continuous</td>\n",
       "      <td>None</td>\n",
       "      <td>None</td>\n",
       "      <td>None</td>\n",
       "      <td>no</td>\n",
       "    </tr>\n",
       "    <tr>\n",
       "      <th>20</th>\n",
       "      <td>Attribute21</td>\n",
       "      <td>Feature</td>\n",
       "      <td>Continuous</td>\n",
       "      <td>None</td>\n",
       "      <td>None</td>\n",
       "      <td>None</td>\n",
       "      <td>no</td>\n",
       "    </tr>\n",
       "    <tr>\n",
       "      <th>21</th>\n",
       "      <td>Attribute22</td>\n",
       "      <td>Feature</td>\n",
       "      <td>Continuous</td>\n",
       "      <td>None</td>\n",
       "      <td>None</td>\n",
       "      <td>None</td>\n",
       "      <td>no</td>\n",
       "    </tr>\n",
       "    <tr>\n",
       "      <th>22</th>\n",
       "      <td>Attribute23</td>\n",
       "      <td>Feature</td>\n",
       "      <td>Continuous</td>\n",
       "      <td>None</td>\n",
       "      <td>None</td>\n",
       "      <td>None</td>\n",
       "      <td>no</td>\n",
       "    </tr>\n",
       "    <tr>\n",
       "      <th>23</th>\n",
       "      <td>Attribute24</td>\n",
       "      <td>Feature</td>\n",
       "      <td>Continuous</td>\n",
       "      <td>None</td>\n",
       "      <td>None</td>\n",
       "      <td>None</td>\n",
       "      <td>no</td>\n",
       "    </tr>\n",
       "    <tr>\n",
       "      <th>24</th>\n",
       "      <td>Attribute25</td>\n",
       "      <td>Feature</td>\n",
       "      <td>Continuous</td>\n",
       "      <td>None</td>\n",
       "      <td>None</td>\n",
       "      <td>None</td>\n",
       "      <td>no</td>\n",
       "    </tr>\n",
       "    <tr>\n",
       "      <th>25</th>\n",
       "      <td>Attribute26</td>\n",
       "      <td>Feature</td>\n",
       "      <td>Continuous</td>\n",
       "      <td>None</td>\n",
       "      <td>None</td>\n",
       "      <td>None</td>\n",
       "      <td>no</td>\n",
       "    </tr>\n",
       "    <tr>\n",
       "      <th>26</th>\n",
       "      <td>Attribute27</td>\n",
       "      <td>Feature</td>\n",
       "      <td>Continuous</td>\n",
       "      <td>None</td>\n",
       "      <td>None</td>\n",
       "      <td>None</td>\n",
       "      <td>no</td>\n",
       "    </tr>\n",
       "    <tr>\n",
       "      <th>27</th>\n",
       "      <td>Attribute28</td>\n",
       "      <td>Feature</td>\n",
       "      <td>Continuous</td>\n",
       "      <td>None</td>\n",
       "      <td>None</td>\n",
       "      <td>None</td>\n",
       "      <td>no</td>\n",
       "    </tr>\n",
       "    <tr>\n",
       "      <th>28</th>\n",
       "      <td>Attribute29</td>\n",
       "      <td>Feature</td>\n",
       "      <td>Continuous</td>\n",
       "      <td>None</td>\n",
       "      <td>None</td>\n",
       "      <td>None</td>\n",
       "      <td>no</td>\n",
       "    </tr>\n",
       "    <tr>\n",
       "      <th>29</th>\n",
       "      <td>Attribute30</td>\n",
       "      <td>Feature</td>\n",
       "      <td>Continuous</td>\n",
       "      <td>None</td>\n",
       "      <td>None</td>\n",
       "      <td>None</td>\n",
       "      <td>no</td>\n",
       "    </tr>\n",
       "    <tr>\n",
       "      <th>30</th>\n",
       "      <td>Attribute31</td>\n",
       "      <td>Feature</td>\n",
       "      <td>Continuous</td>\n",
       "      <td>None</td>\n",
       "      <td>None</td>\n",
       "      <td>None</td>\n",
       "      <td>no</td>\n",
       "    </tr>\n",
       "    <tr>\n",
       "      <th>31</th>\n",
       "      <td>Attribute32</td>\n",
       "      <td>Feature</td>\n",
       "      <td>Continuous</td>\n",
       "      <td>None</td>\n",
       "      <td>None</td>\n",
       "      <td>None</td>\n",
       "      <td>no</td>\n",
       "    </tr>\n",
       "    <tr>\n",
       "      <th>32</th>\n",
       "      <td>Attribute33</td>\n",
       "      <td>Feature</td>\n",
       "      <td>Continuous</td>\n",
       "      <td>None</td>\n",
       "      <td>None</td>\n",
       "      <td>None</td>\n",
       "      <td>no</td>\n",
       "    </tr>\n",
       "    <tr>\n",
       "      <th>33</th>\n",
       "      <td>Attribute34</td>\n",
       "      <td>Feature</td>\n",
       "      <td>Continuous</td>\n",
       "      <td>None</td>\n",
       "      <td>None</td>\n",
       "      <td>None</td>\n",
       "      <td>no</td>\n",
       "    </tr>\n",
       "    <tr>\n",
       "      <th>34</th>\n",
       "      <td>Class</td>\n",
       "      <td>Target</td>\n",
       "      <td>Categorical</td>\n",
       "      <td>None</td>\n",
       "      <td>None</td>\n",
       "      <td>None</td>\n",
       "      <td>no</td>\n",
       "    </tr>\n",
       "  </tbody>\n",
       "</table>\n",
       "</div>"
      ],
      "text/plain": [
       "           name     role         type demographic description units  \\\n",
       "0    Attribute1  Feature   Continuous        None        None  None   \n",
       "1    Attribute2  Feature   Continuous        None        None  None   \n",
       "2    Attribute3  Feature   Continuous        None        None  None   \n",
       "3    Attribute4  Feature   Continuous        None        None  None   \n",
       "4    Attribute5  Feature   Continuous        None        None  None   \n",
       "5    Attribute6  Feature   Continuous        None        None  None   \n",
       "6    Attribute7  Feature   Continuous        None        None  None   \n",
       "7    Attribute8  Feature   Continuous        None        None  None   \n",
       "8    Attribute9  Feature   Continuous        None        None  None   \n",
       "9   Attribute10  Feature   Continuous        None        None  None   \n",
       "10  Attribute11  Feature   Continuous        None        None  None   \n",
       "11  Attribute12  Feature   Continuous        None        None  None   \n",
       "12  Attribute13  Feature   Continuous        None        None  None   \n",
       "13  Attribute14  Feature   Continuous        None        None  None   \n",
       "14  Attribute15  Feature   Continuous        None        None  None   \n",
       "15  Attribute16  Feature   Continuous        None        None  None   \n",
       "16  Attribute17  Feature   Continuous        None        None  None   \n",
       "17  Attribute18  Feature   Continuous        None        None  None   \n",
       "18  Attribute19  Feature   Continuous        None        None  None   \n",
       "19  Attribute20  Feature   Continuous        None        None  None   \n",
       "20  Attribute21  Feature   Continuous        None        None  None   \n",
       "21  Attribute22  Feature   Continuous        None        None  None   \n",
       "22  Attribute23  Feature   Continuous        None        None  None   \n",
       "23  Attribute24  Feature   Continuous        None        None  None   \n",
       "24  Attribute25  Feature   Continuous        None        None  None   \n",
       "25  Attribute26  Feature   Continuous        None        None  None   \n",
       "26  Attribute27  Feature   Continuous        None        None  None   \n",
       "27  Attribute28  Feature   Continuous        None        None  None   \n",
       "28  Attribute29  Feature   Continuous        None        None  None   \n",
       "29  Attribute30  Feature   Continuous        None        None  None   \n",
       "30  Attribute31  Feature   Continuous        None        None  None   \n",
       "31  Attribute32  Feature   Continuous        None        None  None   \n",
       "32  Attribute33  Feature   Continuous        None        None  None   \n",
       "33  Attribute34  Feature   Continuous        None        None  None   \n",
       "34        Class   Target  Categorical        None        None  None   \n",
       "\n",
       "   missing_values  \n",
       "0              no  \n",
       "1              no  \n",
       "2              no  \n",
       "3              no  \n",
       "4              no  \n",
       "5              no  \n",
       "6              no  \n",
       "7              no  \n",
       "8              no  \n",
       "9              no  \n",
       "10             no  \n",
       "11             no  \n",
       "12             no  \n",
       "13             no  \n",
       "14             no  \n",
       "15             no  \n",
       "16             no  \n",
       "17             no  \n",
       "18             no  \n",
       "19             no  \n",
       "20             no  \n",
       "21             no  \n",
       "22             no  \n",
       "23             no  \n",
       "24             no  \n",
       "25             no  \n",
       "26             no  \n",
       "27             no  \n",
       "28             no  \n",
       "29             no  \n",
       "30             no  \n",
       "31             no  \n",
       "32             no  \n",
       "33             no  \n",
       "34             no  "
      ]
     },
     "execution_count": 156,
     "metadata": {},
     "output_type": "execute_result"
    }
   ],
   "source": [
    "iono = fetch_ucirepo(id=52)\n",
    "ii = iono.variables\n",
    "filename_ii = iono.metadata.name\n",
    "ii"
   ]
  },
  {
   "cell_type": "code",
   "execution_count": 157,
   "id": "a60493e7-0932-40ca-8f00-cbce7e0473e7",
   "metadata": {},
   "outputs": [],
   "source": [
    "ii_feature = ii.loc[ii['role'] == 'Feature']\n",
    "ii_cont_features_df = ii_feature.loc[ii_feature['type'] == 'Continuous']\n",
    "ii_cat_features_df = ii_feature.loc[ii_feature['type'] == 'Categorical']\n",
    "ii_cont_features = ii_cont_features_df[\"name\"].tolist()\n",
    "ii_cat_features = ii_cat_features_df[\"name\"].tolist()"
   ]
  },
  {
   "cell_type": "code",
   "execution_count": 158,
   "id": "71d79080-3e77-4d6e-9e84-6bd6df878717",
   "metadata": {},
   "outputs": [],
   "source": [
    "y = np.ravel(iono.data.targets)\n",
    "clusters = np.unique(y)\n",
    "clusters_to_int = {clust: i for i, clust in enumerate(clusters)}\n",
    "z_true_52 = np.vectorize(clusters_to_int.get)(y)"
   ]
  },
  {
   "cell_type": "code",
   "execution_count": 159,
   "id": "22e7d3ab-3592-4058-a2f1-75a893c398a1",
   "metadata": {},
   "outputs": [
    {
     "name": "stdout",
     "output_type": "stream",
     "text": [
      "[]\n",
      "['Attribute1', 'Attribute2', 'Attribute3', 'Attribute4', 'Attribute5', 'Attribute6', 'Attribute7', 'Attribute8', 'Attribute9', 'Attribute10', 'Attribute11', 'Attribute12', 'Attribute13', 'Attribute14', 'Attribute15', 'Attribute16', 'Attribute17', 'Attribute18', 'Attribute19', 'Attribute20', 'Attribute21', 'Attribute22', 'Attribute23', 'Attribute24', 'Attribute25', 'Attribute26', 'Attribute27', 'Attribute28', 'Attribute29', 'Attribute30', 'Attribute31', 'Attribute32', 'Attribute33', 'Attribute34']\n"
     ]
    }
   ],
   "source": [
    "print(ii_cat_features)\n",
    "print(ii_cont_features)"
   ]
  },
  {
   "cell_type": "code",
   "execution_count": 160,
   "id": "4334d3c5-af30-44a3-bcc8-c44e26c2fc0e",
   "metadata": {},
   "outputs": [
    {
     "data": {
      "text/plain": [
       "'dataUCI/Ionosphere.labels'"
      ]
     },
     "execution_count": 160,
     "metadata": {},
     "output_type": "execute_result"
    }
   ],
   "source": [
    "N = iono.data.features.shape[0]\n",
    "gD = len(ii_cont_features)\n",
    "\n",
    "X = np.zeros((N, gD))\n",
    "\n",
    "for i in range(gD):\n",
    "    X[:, i] = iono.data.features[ii_cont_features[i]]\n",
    "\n",
    "utils.saveData(f\"{uci_data_dir}/{filename_ii}.gauss.csv\", X, \"data\")\n",
    "utils.saveData(f\"{uci_data_dir}/{filename_ii}.labels\", z_true_52, \"labels\")\n"
   ]
  },
  {
   "cell_type": "code",
   "execution_count": 161,
   "id": "9e19e340-b1e5-45cf-94f7-6ac98f959e4a",
   "metadata": {},
   "outputs": [
    {
     "name": "stderr",
     "output_type": "stream",
     "text": [
      "┌ Warning: `@add_arg_table` is deprecated, use `@add_arg_table!` instead\n",
      "└ @ ArgParse :-1\n"
     ]
    },
    {
     "name": "stdout",
     "output_type": "stream",
     "text": [
      "−−−−−−−−−−−−−−−−−−−−−−−−−−−−−−−−−−−−−−−−−−−−−−−−−−\n",
      "                    Parameters\n",
      "−−−−−−−−−−−−−−−−−−−−−−−−−−−−−−−−−−−−−−−−−−−−−−−−−−\n",
      "c (pseudocount)                       : 0.5\n",
      "μ₀ (normal-gamma param)               : 0.0\n",
      "β₀ (normal-gamma param)               : 0.5\n",
      "a₀ (normal-gamma param)               : 0.5\n",
      "b₀ (normal-gamma param)               : 0.5\n",
      "lrow_c (number of categorical columns): 0\n",
      "lrow_n (number of numeric columns)    : 34\n",
      "nrows (total number of rows)          : 351\n",
      "maxnclust (max clusters, 0=no limit)  : 0\n",
      "nclust (fixed #clusters, 0= not fixed): 0\n",
      "model selection criterion             : Marginal likelihood (TI)\n",
      "niter                                 : 10\n",
      "\n",
      "Input filename                        : dataUCI/Ionosphere.gauss.csv\n",
      "Output filename                       : dataUCI/Ionosphere.gauss.csv.labels.thichet\n",
      "−−−−−−−−−−−−−−−−−−−−−−−−−−−−−−−−−−−−−−−−−−−−−−−−−−\n"
     ]
    },
    {
     "data": {
      "text/plain": [
       "'dataUCI/Ionosphere.pred.mmm.time'"
      ]
     },
     "execution_count": 161,
     "metadata": {},
     "output_type": "execute_result"
    }
   ],
   "source": [
    "start_time = time.perf_counter()\n",
    "\n",
    "os.system(f\"julia mmm.jl '{uci_data_dir}/{filename_ii}.gauss.csv'\")\n",
    "z_pred_mmm_uci_52 = utils.extractData(f\"{uci_data_dir}/{filename_ii}.gauss.csv.labels.thichet\", \"labels\")\n",
    "\n",
    "mmm_ari_uci_52 = round(adjusted_rand_score(z_pred_mmm_uci_52, z_true_52), 3)\n",
    "mmm_time_uci_52 = round(time.perf_counter() - start_time ,3)\n",
    "\n",
    "utils.saveData(f\"{uci_data_dir}/{filename_ii}.pred.mmm.labels\", z_pred_mmm_uci_52, \"labels\")\n",
    "utils.saveData(f\"{uci_data_dir}/{filename_ii}.pred.mmm.time\", mmm_time_uci_52, \"single\")"
   ]
  },
  {
   "cell_type": "code",
   "execution_count": 188,
   "id": "6328bce8-09b8-4917-a816-a37694ae7749",
   "metadata": {},
   "outputs": [
    {
     "name": "stdout",
     "output_type": "stream",
     "text": [
      "\n",
      "dataUCI/Ionosphere\n",
      "\n",
      "Run:  1\n",
      "29/30               \n",
      "Run: 1, K:22, BIC: -2088.2958250546326, logmax post: 1724.1479125273163, max_post_iter: 10\n",
      "Final features:\n",
      "[[1 1 1 ... 1 1 1]\n",
      " [1 1 1 ... 1 1 1]\n",
      " [1 1 1 ... 1 1 1]\n",
      " ...\n",
      " [1 1 1 ... 1 1 1]\n",
      " [1 1 1 ... 1 1 1]\n",
      " [1 1 1 ... 1 1 1]]\n"
     ]
    },
    {
     "data": {
      "text/plain": [
       "'dataUCI/Ionosphere.pred.bayes.time'"
      ]
     },
     "execution_count": 188,
     "metadata": {},
     "output_type": "execute_result"
    }
   ],
   "source": [
    "print(f\"\\n{uci_data_dir}/{filename_ii}\")\n",
    "\n",
    "start_time = time.perf_counter()\n",
    "X = utils.extractData(f\"{uci_data_dir}/{filename_ii}.gauss.csv\", \"data\")\n",
    "\n",
    "est = DiagGaussianFS(alpha = 1.0, m_0_partial = 0, k_0 = 0.03, v_0_partial = 3, S_0_partial = 0.3, iterations=30, runs = 1)\n",
    "\n",
    "est.sample(X)\n",
    "bayes_pred_uci_52 = est.assignments()\n",
    "bayes_ari_uci_52 = round(adjusted_rand_score(bayes_pred_uci_52, z_true_52), 3)\n",
    "bayes_time_uci_52 = round(time.perf_counter() - start_time ,3)\n",
    "utils.saveData(f\"{uci_data_dir}/{filename_ii}.pred.bayes.labels\", bayes_pred_uci_52, \"labels\")\n",
    "utils.saveData(f\"{uci_data_dir}/{filename_ii}.pred.bayes.time\", bayes_time_uci_52, \"single\")"
   ]
  },
  {
   "cell_type": "code",
   "execution_count": 247,
   "id": "0f577e7d-d9ce-430d-b2ed-e17d81da850f",
   "metadata": {},
   "outputs": [
    {
     "name": "stdout",
     "output_type": "stream",
     "text": [
      "\n",
      "dataUCI/Ionosphere\n",
      "\n",
      "Run:  1\n",
      "99/100               \n",
      "Run: 1, K:10, BIC: 7823.391701546194, logmax post: -1919.0285347947024, max_post_iter: 99\n",
      "\n",
      "Run:  2\n",
      "99/100               \n",
      "Run: 2, K:10, BIC: 7920.199163207733, logmax post: -1967.4322656254724, max_post_iter: 97\n",
      "\n",
      "Run:  3\n",
      "99/100               \n",
      "Run: 3, K:10, BIC: 7175.629730584053, logmax post: -1595.147549313632, max_post_iter: 52\n"
     ]
    },
    {
     "data": {
      "text/plain": [
       "'dataUCI/Ionosphere.pred.bayes.time'"
      ]
     },
     "execution_count": 247,
     "metadata": {},
     "output_type": "execute_result"
    }
   ],
   "source": [
    "print(f\"\\n{uci_data_dir}/{filename_ii}\")\n",
    "\n",
    "start_time = time.perf_counter()\n",
    "X = utils.extractData(f\"{uci_data_dir}/{filename_ii}.gauss.csv\", \"data\")\n",
    "\n",
    "est = DiagGaussian(alpha = 1.0, m_0_partial = 0, k_0 = 0.03, v_0_partial = 3, S_0_partial = 0.3, iterations=100, runs = 3, K_initial=10)\n",
    "\n",
    "est.sample(X)\n",
    "bayes_pred_uci_52 = est.assignments()\n",
    "bayes_ari_uci_52 = round(adjusted_rand_score(bayes_pred_uci_52, z_true_52), 3)\n",
    "bayes_time_uci_52 = round(time.perf_counter() - start_time ,3)\n",
    "utils.saveData(f\"{uci_data_dir}/{filename_ii}.pred.bayes.labels\", bayes_pred_uci_52, \"labels\")\n",
    "utils.saveData(f\"{uci_data_dir}/{filename_ii}.pred.bayes.time\", bayes_time_uci_52, \"single\")"
   ]
  },
  {
   "cell_type": "code",
   "execution_count": 189,
   "id": "6eecf543-7ddf-480a-bf07-2d21c40d8a5f",
   "metadata": {},
   "outputs": [
    {
     "name": "stdout",
     "output_type": "stream",
     "text": [
      "\n",
      "dataUCI/Ionosphere\n"
     ]
    },
    {
     "data": {
      "text/plain": [
       "'dataUCI/diabetesRaw.pred.em_diag.gauss.time'"
      ]
     },
     "execution_count": 189,
     "metadata": {},
     "output_type": "execute_result"
    }
   ],
   "source": [
    "print(f\"\\n{uci_data_dir}/{filename_ii}\")\n",
    "\n",
    "start_time = time.perf_counter()\n",
    "training_runs_EM = 2\n",
    "EM_gmm = GaussianMixture(n_components=len(set(z_true_52)), n_init=training_runs_EM, covariance_type = \"diag\")\n",
    "X = utils.extractData(f\"{uci_data_dir}/{filename_ii}.gauss.csv\", \"data\")\n",
    "EM_gmm.fit(X)\n",
    "\n",
    "# print(f\"BIC: {EM_gmm.bic(X)}\\nK: {K}\")\n",
    "em_pred_uci_52 = EM_gmm.predict(X)\n",
    "em_ari_uci_52 = round(adjusted_rand_score(em_pred_uci_52, z_true_52), 3)\n",
    "em_time_uci_52 = round(time.perf_counter() - start_time ,3)\n",
    "utils.saveData(f\"{uci_data_dir}/{filename}.pred.em_diag.gauss.labels\", em_pred_uci_52, \"labels\")\n",
    "utils.saveData(f\"{uci_data_dir}/{filename}.pred.em_diag.gauss.time\", em_time_uci_52, \"single\")\n"
   ]
  },
  {
   "cell_type": "code",
   "execution_count": 251,
   "id": "ce90cc19-ab06-443e-bf1f-05eca384780b",
   "metadata": {},
   "outputs": [
    {
     "name": "stdout",
     "output_type": "stream",
     "text": [
      "Best BIC: -1280.912398062057 K: 3\n"
     ]
    },
    {
     "data": {
      "text/plain": [
       "'dataUCI/Ionosphere.pred.em_unknown_K.time'"
      ]
     },
     "execution_count": 251,
     "metadata": {},
     "output_type": "execute_result"
    }
   ],
   "source": [
    "\n",
    "start_time = time.process_time()\n",
    "training_runs_EM = 2\n",
    "\n",
    "best_BIC = np.inf\n",
    "X = utils.extractData(f\"{uci_data_dir}/{filename_ii}.gauss.csv\", \"data\")\n",
    "\n",
    "for K in range(2, 11):\n",
    "    EM_gmm = GaussianMixture(n_components=K, n_init=training_runs_EM)\n",
    "    EM_gmm.fit(X)\n",
    "    gmm_BIC = EM_gmm.bic(X)\n",
    "    # print(f\"BIC: {gmm_BIC} K: {K}\")\n",
    "    \n",
    "    if gmm_BIC < best_BIC:\n",
    "        best_BIC = gmm_BIC\n",
    "        best_gmm = EM_gmm\n",
    "\n",
    "\n",
    "z_pred_EM_unknownK = best_gmm.predict(X)\n",
    "print(f\"Best BIC: {best_BIC} K: {len(set(z_pred_EM_unknownK))}\")\n",
    "\n",
    "em_ari_uK_uci_52 = round(adjusted_rand_score(z_pred_EM_unknownK, z_true_52), 3)\n",
    "em_time_uK_uci_52 = round(time.perf_counter() - start_time ,3)\n",
    "\n",
    "utils.saveData(f\"{uci_data_dir}/{filename_ii}.pred.em_unknown_K.labels\", z_pred_EM_unknownK, \"labels\")\n",
    "utils.saveData(f\"{uci_data_dir}/{filename_ii}.pred.em_unknown_K.time\", time.process_time() - start_time, \"single\")"
   ]
  },
  {
   "cell_type": "code",
   "execution_count": 252,
   "id": "958d340b-e5b3-434a-b6ab-b1dca908bdb0",
   "metadata": {},
   "outputs": [
    {
     "name": "stdout",
     "output_type": "stream",
     "text": [
      "0.233 0.213 0.212 0.51\n",
      "31.12 0.213 47.31 386956.282\n"
     ]
    }
   ],
   "source": [
    "print(bayes_ari_uci_52, em_ari_uci_52, mmm_ari_uci_52, em_ari_uK_uci_52)\n",
    "print(bayes_time_uci_52, em_ari_uci_52, mmm_time_uci_52, em_time_uK_uci_52)"
   ]
  },
  {
   "cell_type": "code",
   "execution_count": 253,
   "id": "209d61d3-2ecc-4669-a952-7fa2942efa89",
   "metadata": {},
   "outputs": [
    {
     "name": "stdout",
     "output_type": "stream",
     "text": [
      "2\n",
      "10\n",
      "5\n",
      "3\n"
     ]
    }
   ],
   "source": [
    "print(len(set(em_pred_uci_52)))\n",
    "print(len(set(bayes_pred_uci_52)))\n",
    "print(len(set(z_pred_mmm_uci_52)))\n",
    "print(len(set(z_pred_EM_unknownK)))"
   ]
  },
  {
   "cell_type": "code",
   "execution_count": 237,
   "id": "83e2e016-baa6-4d4b-909c-9e6f4953e02d",
   "metadata": {},
   "outputs": [
    {
     "data": {
      "text/plain": [
       "2"
      ]
     },
     "execution_count": 237,
     "metadata": {},
     "output_type": "execute_result"
    }
   ],
   "source": [
    "len(set(z_true_52))"
   ]
  },
  {
   "cell_type": "code",
   "execution_count": null,
   "id": "2cd97e23-87c1-4d1c-b409-9bb6516c21ef",
   "metadata": {},
   "outputs": [],
   "source": []
  },
  {
   "cell_type": "code",
   "execution_count": null,
   "id": "1360c3ad-8ec4-4044-888f-43f2f6f8925f",
   "metadata": {},
   "outputs": [],
   "source": []
  },
  {
   "cell_type": "code",
   "execution_count": null,
   "id": "7e6690ab-ceab-4f46-b0e1-a5c7170ca11e",
   "metadata": {},
   "outputs": [],
   "source": []
  },
  {
   "cell_type": "code",
   "execution_count": null,
   "id": "61c302d0-a1dd-4fbd-860e-80f7983e34f5",
   "metadata": {},
   "outputs": [],
   "source": [
    "##### save data\n",
    "def saveUCIData(uci_data_dir, id):\n",
    "    data = fetch_ucirepo(id=id)\n",
    "    data_var = data.variables\n",
    "    filename = data.metadata['name']\n",
    "    X_raw = data.data.features\n",
    "\n",
    "    bb_feature = data_var.loc[data_var['role'] == 'Feature']\n",
    "    bb_cont_features_df = bb_feature.loc[bb_feature['type'] == 'Continuous']\n",
    "    bb_cat_features_df = bb_feature.loc[bb_feature['type'] == 'Categorical']\n",
    "    bb_cont_features = bb_cont_features_df[\"name\"].tolist()\n",
    "    bb_cat_features = bb_cat_features_df[\"name\"].tolist()\n",
    "    \n",
    "    z_true = np.ravel(data.data.targets)\n",
    "    \n",
    "    N = X_raw.shape[0]\n",
    "    gD = len(bb_cont_features)\n",
    "    cD = len(bb_cat_features)\n",
    "    \n",
    "    X = np.zeros((N, gD))\n",
    "    C_str = np.zeros((N, cD), \"str\")\n",
    "\n",
    "    for i in range(gD):\n",
    "        X[:, i] = X_raw[bb_cont_features[i]]\n",
    "\n",
    "    for i in range(cD):\n",
    "        C_str[:, i] = X_raw[bb_cat_features[i]]\n",
    "\n",
    "    if len(C_str[0]) != 0:\n",
    "        categories = np.unique(C_str)\n",
    "        category_to_int = {category: i for i, category in enumerate(categories)}\n",
    "        C = np.vectorize(category_to_int.get)(C_str)\n",
    "    else:\n",
    "        C = np.zeros((N, 0), int)\n",
    "    print(C)\n",
    "    mixed_data = np.concatenate((X, C), axis=1) \n",
    "\n",
    "    utils.saveData(f\"{uci_data_dir}/{filename}.gauss.csv\", X, \"data\")\n",
    "    utils.saveData(f\"{uci_data_dir}/{filename}.cat.csv\", C, \"data\")\n",
    "    utils.saveData(f\"{uci_data_dir}/{filename}.mixed.csv\", mixed_data, \"data\")\n",
    "    utils.saveData(f\"{uci_data_dir}/{filename}.labels\", z_true, \"labels\")\n",
    "\n",
    "    return filename\n",
    "\n",
    "\n",
    "\n",
    "def runBayes(data_dir, filename):\n",
    "\n",
    "    print(f\"\\n{data_dir}/{filename}\")\n",
    "\n",
    "    start_time = time.process_time()\n",
    "    X = utils.extractData(f\"{data_dir}/{filename}.gauss.csv\", \"data\")\n",
    "    C = utils.extractData(f\"{data_dir}/{filename}.cat.csv\", \"data_int\")\n",
    "    \n",
    "    est = DiagGaussianCategorical(alpha = 1.0, m_0_partial = 0, k_0 = 0.03, v_0_partial = 3, S_0_partial = 0.3, gamma = 0.2, K_initial = 3, iterations=30, runs = 5)\n",
    "    \n",
    "    est.sample(X, C)\n",
    "    bayes_pred = est.assignments()\n",
    "    utils.saveData(f\"{data_dir}/{filename}.pred.bayes.labels\", bayes_pred, \"labels\")\n",
    "    utils.saveData(f\"{data_dir}/{filename}.pred.bayes.time\", time.process_time() - start_time, \"single\")\n",
    "\n",
    "def runMMM(data_dir, filename):\n",
    "    start_time = time.process_time()\n",
    "\n",
    "    X = utils.extractData(f\"{data_dir}/{filename}.gauss.csv\", \"data\")\n",
    "    C = utils.extractData(f\"{data_dir}/{filename}.cat.csv\", \"data_int\")\n",
    "    mixed_data = np.concatenate((X, C), axis=1)\n",
    "\n",
    "    utils.saveData(f\"{data_dir}/{filename}.mixed.csv\", mixed_data, 'data')\n",
    "    os.system(f\"julia mmm.jl {data_dir}/{filename}.mixed.csv\")\n",
    "    z_pred_mmm = utils.extractData(f\"{data_dir}/{filename}.mixed.csv.labels.thichet\", \"labels\")\n",
    "    \n",
    "    utils.saveData(f\"{data_dir}/{filename}.pred.mmm.labels\", z_pred_mmm, \"labels\")\n",
    "    utils.saveData(f\"{data_dir}/{filename}.pred.mmm.time\", time.process_time() - start_time, \"single\")\n",
    "\n",
    "\n",
    "\n",
    "def runBayesGauss(data_dir, filename):\n",
    "    \n",
    "    print(f\"\\n{filename}\")\n",
    "\n",
    "    start_time = time.process_time()\n",
    "    \n",
    "    X = utils.extractData(f\"{data_dir}/{filename}.gauss.csv\", \"data\")\n",
    "    C = utils.extractData(f\"{data_dir}/{filename}.cat.csv\", \"data_int\")\n",
    "    one_hot_C = np.zeros((N, cD*M))\n",
    "    encoder = OneHotEncoder(sparse=False)\n",
    "    one_hot_C = encoder.fit_transform(C)\n",
    "    mixed_data_one_hot = np.concatenate((X, one_hot_C), axis=1)\n",
    "    \n",
    "    est = DiagGaussianFS(alpha = 1.0, m_0_partial = 0, k_0 = 0.03, v_0_partial = 3, S_0_partial = 0.3, K_initial = K, iterations=30, runs = 2)\n",
    "    est.sample(mixed_data_one_hot)\n",
    "    bayes_pred = est.assignments()\n",
    "    utils.saveData(f\"{data_dir}/{filename}.pred.bayes.gauss.labels\", bayes_pred, \"labels\")\n",
    "    utils.saveData(f\"{data_dir}/{filename}.pred.bayes.gauss.time\", time.process_time() - start_time, \"single\")\n",
    "\n",
    "\n",
    "\n",
    "def runEM_diag(data_dir, filename):\n",
    "    \n",
    "    print(f\"\\n{filename}\")\n",
    "\n",
    "    start_time = time.process_time()\n",
    "    training_runs_EM = 2\n",
    "    EM_gmm = GaussianMixture(n_components=K, n_init=training_runs_EM, covariance_type = \"diag\")\n",
    "    X = utils.extractData(f\"{data_dir}/{filename}.gauss.csv\", \"data\")\n",
    "    C = utils.extractData(f\"{data_dir}/{filename}.cat.csv\", \"data_int\")\n",
    "    one_hot_C = np.zeros((N, cD*M))\n",
    "    encoder = OneHotEncoder(sparse=False)\n",
    "    one_hot_C = encoder.fit_transform(C)\n",
    "    mixed_data_one_hot = np.concatenate((X, one_hot_C), axis=1)\n",
    "    EM_gmm.fit(mixed_data_one_hot)\n",
    "    \n",
    "    print(f\"BIC: {EM_gmm.bic(mixed_data_one_hot)}\\nK: {K}\")\n",
    "    z_pred_EM = EM_gmm.predict(mixed_data_one_hot)\n",
    "    utils.saveData(f\"{data_dir}/{filename}.pred.em_diag.labels\", z_pred_EM, \"labels\")\n",
    "    utils.saveData(f\"{data_dir}/{filename}.pred.em_diag.time\", time.process_time() - start_time, \"single\")\n",
    "\n"
   ]
  }
 ],
 "metadata": {
  "kernelspec": {
   "display_name": "Python 3 (ipykernel)",
   "language": "python",
   "name": "python3"
  },
  "language_info": {
   "codemirror_mode": {
    "name": "ipython",
    "version": 3
   },
   "file_extension": ".py",
   "mimetype": "text/x-python",
   "name": "python",
   "nbconvert_exporter": "python",
   "pygments_lexer": "ipython3",
   "version": "3.8.10"
  }
 },
 "nbformat": 4,
 "nbformat_minor": 5
}
